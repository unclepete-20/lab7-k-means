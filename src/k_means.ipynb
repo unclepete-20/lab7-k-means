{
  "cells": [
    {
      "cell_type": "markdown",
      "metadata": {
        "colab_type": "text",
        "id": "view-in-github"
      },
      "source": [
        "<a href=\"https://colab.research.google.com/github/unclepete-20/lab7-k-means/blob/main/K_Means.ipynb\" target=\"_parent\"><img src=\"https://colab.research.google.com/assets/colab-badge.svg\" alt=\"Open In Colab\"/></a>"
      ]
    },
    {
      "cell_type": "markdown",
      "metadata": {
        "id": "U0XJNYmkqUxX"
      },
      "source": [
        "# Laboratorio #7 (K-Means)\n",
        "\n",
        "## Integrantes:\n",
        "\n",
        "\n",
        "*   Pedro Pablo Arriola Jimenez (20188)\n",
        "*   Oscar Fernando Lopez Barrios (20679)\n",
        "*   Santiago Taracena Puga (20017)\n",
        "*   YongBum Park (20117)\n",
        "\n",
        "\n",
        "\n",
        "\n",
        "\n",
        "\n"
      ]
    },
    {
      "cell_type": "markdown",
      "metadata": {
        "id": "4Otg84heq5e-"
      },
      "source": [
        "# Introducción a K-Means Clustering para Análisis de Transacciones Bancarias 💳💰\n",
        "\n",
        "El análisis de transacciones bancarias es una tarea importante para detectar fraudes, comportamientos inusuales y patrones de gasto de los clientes. Una forma de analizar estos datos es mediante el uso de técnicas de agrupamiento, como el algoritmo de K-Means.\n",
        "\n",
        "El algoritmo de K-Means es una técnica de aprendizaje no supervisado que permite agrupar datos en clusters o grupos, basado en su similitud. En el caso del análisis de transacciones bancarias, se pueden agrupar los datos según el comportamiento de los clientes, como sus patrones de gasto, lugares frecuentes de uso de tarjeta, entre otros.\n",
        "\n",
        "La implementación de K-Means en Python es relativamente sencilla gracias a la disponibilidad de diversas librerías como scikit-learn y pandas. A través del uso de esta técnica, se puede obtener una mejor comprensión de los patrones y comportamientos de los clientes, lo que puede ser valioso para la toma de decisiones en el ámbito bancario.\n",
        "\n",
        "En esta investigación, se explorará el uso de K-Means Clustering para el análisis de transacciones bancarias, incluyendo su implementación en Python y la interpretación de los resultados obtenidos.\n"
      ]
    },
    {
      "attachments": {},
      "cell_type": "markdown",
      "metadata": {
        "id": "rx_Ug3BErIrG"
      },
      "source": [
        "## Task 1 - Limpieza de datos y Análisis Exploratorio"
      ]
    },
    {
      "attachments": {},
      "cell_type": "markdown",
      "metadata": {},
      "source": [
        "La presente parte del task 1, como se menciona, consiste en realizar una limpieza de datos y el análisis exploratorio de los mismos. A continuación se presenta el procedimiento de escalamiento, codificación, y finalmente posterior análisis exploratorio de los datos presentados con el objetivo de la realización del laboratorio."
      ]
    },
    {
      "cell_type": "code",
      "execution_count": 65,
      "metadata": {
        "colab": {
          "base_uri": "https://localhost:8080/",
          "height": 505
        },
        "id": "OkPFsT3ipcGd",
        "outputId": "7383c3d9-d87e-45eb-a325-b3271860f3b5"
      },
      "outputs": [],
      "source": [
        "# Librerías necesarias para la limpieza de datos y análisis exploratorio.\n",
        "import pandas as pd\n",
        "import numpy as np\n",
        "import matplotlib.pyplot as plt\n",
        "import seaborn as sns\n",
        "from sklearn.metrics import pairwise_distances"
      ]
    },
    {
      "cell_type": "code",
      "execution_count": 66,
      "metadata": {},
      "outputs": [
        {
          "data": {
            "text/html": [
              "<div>\n",
              "<style scoped>\n",
              "    .dataframe tbody tr th:only-of-type {\n",
              "        vertical-align: middle;\n",
              "    }\n",
              "\n",
              "    .dataframe tbody tr th {\n",
              "        vertical-align: top;\n",
              "    }\n",
              "\n",
              "    .dataframe thead th {\n",
              "        text-align: right;\n",
              "    }\n",
              "</style>\n",
              "<table border=\"1\" class=\"dataframe\">\n",
              "  <thead>\n",
              "    <tr style=\"text-align: right;\">\n",
              "      <th></th>\n",
              "      <th>TransactionID</th>\n",
              "      <th>CustomerID</th>\n",
              "      <th>CustomerDOB</th>\n",
              "      <th>CustGender</th>\n",
              "      <th>CustLocation</th>\n",
              "      <th>CustAccountBalance</th>\n",
              "      <th>TransactionDate</th>\n",
              "      <th>TransactionTime</th>\n",
              "      <th>TransactionAmount (INR)</th>\n",
              "    </tr>\n",
              "  </thead>\n",
              "  <tbody>\n",
              "    <tr>\n",
              "      <th>0</th>\n",
              "      <td>T1</td>\n",
              "      <td>C5841053</td>\n",
              "      <td>10/1/94</td>\n",
              "      <td>F</td>\n",
              "      <td>JAMSHEDPUR</td>\n",
              "      <td>17819.05</td>\n",
              "      <td>2/8/16</td>\n",
              "      <td>143207</td>\n",
              "      <td>25.0</td>\n",
              "    </tr>\n",
              "    <tr>\n",
              "      <th>1</th>\n",
              "      <td>T2</td>\n",
              "      <td>C2142763</td>\n",
              "      <td>4/4/57</td>\n",
              "      <td>M</td>\n",
              "      <td>JHAJJAR</td>\n",
              "      <td>2270.69</td>\n",
              "      <td>2/8/16</td>\n",
              "      <td>141858</td>\n",
              "      <td>27999.0</td>\n",
              "    </tr>\n",
              "    <tr>\n",
              "      <th>2</th>\n",
              "      <td>T3</td>\n",
              "      <td>C4417068</td>\n",
              "      <td>26/11/96</td>\n",
              "      <td>F</td>\n",
              "      <td>MUMBAI</td>\n",
              "      <td>17874.44</td>\n",
              "      <td>2/8/16</td>\n",
              "      <td>142712</td>\n",
              "      <td>459.0</td>\n",
              "    </tr>\n",
              "    <tr>\n",
              "      <th>3</th>\n",
              "      <td>T4</td>\n",
              "      <td>C5342380</td>\n",
              "      <td>14/9/73</td>\n",
              "      <td>F</td>\n",
              "      <td>MUMBAI</td>\n",
              "      <td>866503.21</td>\n",
              "      <td>2/8/16</td>\n",
              "      <td>142714</td>\n",
              "      <td>2060.0</td>\n",
              "    </tr>\n",
              "    <tr>\n",
              "      <th>4</th>\n",
              "      <td>T5</td>\n",
              "      <td>C9031234</td>\n",
              "      <td>24/3/88</td>\n",
              "      <td>F</td>\n",
              "      <td>NAVI MUMBAI</td>\n",
              "      <td>6714.43</td>\n",
              "      <td>2/8/16</td>\n",
              "      <td>181156</td>\n",
              "      <td>1762.5</td>\n",
              "    </tr>\n",
              "    <tr>\n",
              "      <th>...</th>\n",
              "      <td>...</td>\n",
              "      <td>...</td>\n",
              "      <td>...</td>\n",
              "      <td>...</td>\n",
              "      <td>...</td>\n",
              "      <td>...</td>\n",
              "      <td>...</td>\n",
              "      <td>...</td>\n",
              "      <td>...</td>\n",
              "    </tr>\n",
              "    <tr>\n",
              "      <th>1048562</th>\n",
              "      <td>T1048563</td>\n",
              "      <td>C8020229</td>\n",
              "      <td>8/4/90</td>\n",
              "      <td>M</td>\n",
              "      <td>NEW DELHI</td>\n",
              "      <td>7635.19</td>\n",
              "      <td>18/9/16</td>\n",
              "      <td>184824</td>\n",
              "      <td>799.0</td>\n",
              "    </tr>\n",
              "    <tr>\n",
              "      <th>1048563</th>\n",
              "      <td>T1048564</td>\n",
              "      <td>C6459278</td>\n",
              "      <td>20/2/92</td>\n",
              "      <td>M</td>\n",
              "      <td>NASHIK</td>\n",
              "      <td>27311.42</td>\n",
              "      <td>18/9/16</td>\n",
              "      <td>183734</td>\n",
              "      <td>460.0</td>\n",
              "    </tr>\n",
              "    <tr>\n",
              "      <th>1048564</th>\n",
              "      <td>T1048565</td>\n",
              "      <td>C6412354</td>\n",
              "      <td>18/5/89</td>\n",
              "      <td>M</td>\n",
              "      <td>HYDERABAD</td>\n",
              "      <td>221757.06</td>\n",
              "      <td>18/9/16</td>\n",
              "      <td>183313</td>\n",
              "      <td>770.0</td>\n",
              "    </tr>\n",
              "    <tr>\n",
              "      <th>1048565</th>\n",
              "      <td>T1048566</td>\n",
              "      <td>C6420483</td>\n",
              "      <td>30/8/78</td>\n",
              "      <td>M</td>\n",
              "      <td>VISAKHAPATNAM</td>\n",
              "      <td>10117.87</td>\n",
              "      <td>18/9/16</td>\n",
              "      <td>184706</td>\n",
              "      <td>1000.0</td>\n",
              "    </tr>\n",
              "    <tr>\n",
              "      <th>1048566</th>\n",
              "      <td>T1048567</td>\n",
              "      <td>C8337524</td>\n",
              "      <td>5/3/84</td>\n",
              "      <td>M</td>\n",
              "      <td>PUNE</td>\n",
              "      <td>75734.42</td>\n",
              "      <td>18/9/16</td>\n",
              "      <td>181222</td>\n",
              "      <td>1166.0</td>\n",
              "    </tr>\n",
              "  </tbody>\n",
              "</table>\n",
              "<p>1048567 rows × 9 columns</p>\n",
              "</div>"
            ],
            "text/plain": [
              "        TransactionID CustomerID CustomerDOB CustGender   CustLocation  \\\n",
              "0                  T1   C5841053     10/1/94          F     JAMSHEDPUR   \n",
              "1                  T2   C2142763      4/4/57          M        JHAJJAR   \n",
              "2                  T3   C4417068    26/11/96          F         MUMBAI   \n",
              "3                  T4   C5342380     14/9/73          F         MUMBAI   \n",
              "4                  T5   C9031234     24/3/88          F    NAVI MUMBAI   \n",
              "...               ...        ...         ...        ...            ...   \n",
              "1048562      T1048563   C8020229      8/4/90          M      NEW DELHI   \n",
              "1048563      T1048564   C6459278     20/2/92          M         NASHIK   \n",
              "1048564      T1048565   C6412354     18/5/89          M      HYDERABAD   \n",
              "1048565      T1048566   C6420483     30/8/78          M  VISAKHAPATNAM   \n",
              "1048566      T1048567   C8337524      5/3/84          M           PUNE   \n",
              "\n",
              "         CustAccountBalance TransactionDate  TransactionTime  \\\n",
              "0                  17819.05          2/8/16           143207   \n",
              "1                   2270.69          2/8/16           141858   \n",
              "2                  17874.44          2/8/16           142712   \n",
              "3                 866503.21          2/8/16           142714   \n",
              "4                   6714.43          2/8/16           181156   \n",
              "...                     ...             ...              ...   \n",
              "1048562             7635.19         18/9/16           184824   \n",
              "1048563            27311.42         18/9/16           183734   \n",
              "1048564           221757.06         18/9/16           183313   \n",
              "1048565            10117.87         18/9/16           184706   \n",
              "1048566            75734.42         18/9/16           181222   \n",
              "\n",
              "         TransactionAmount (INR)  \n",
              "0                           25.0  \n",
              "1                        27999.0  \n",
              "2                          459.0  \n",
              "3                         2060.0  \n",
              "4                         1762.5  \n",
              "...                          ...  \n",
              "1048562                    799.0  \n",
              "1048563                    460.0  \n",
              "1048564                    770.0  \n",
              "1048565                   1000.0  \n",
              "1048566                   1166.0  \n",
              "\n",
              "[1048567 rows x 9 columns]"
            ]
          },
          "execution_count": 66,
          "metadata": {},
          "output_type": "execute_result"
        }
      ],
      "source": [
        "# Se carga el dataset para comenzar a realizar limpieza y exploración.\n",
        "data = pd.read_csv(\"./data/bank_transactions.csv\")\n",
        "data"
      ]
    },
    {
      "attachments": {},
      "cell_type": "markdown",
      "metadata": {
        "id": "pdmxK1IltmhI"
      },
      "source": [
        "La tabla muestra información sobre transacciones financieras. A continuación se describe el significado de cada columna:\n",
        "\n",
        "- TransactionID: un identificador único para cada transacción\n",
        "- CustomerID: un identificador único para cada cliente\n",
        "- CustomerDOB: la fecha de nacimiento del cliente\n",
        "- CustGender: el género del cliente\n",
        "- CustLocation: la ubicación geográfica del cliente\n",
        "- CustAccountBalance: el saldo de la cuenta del cliente\n",
        "- TransactionDate: la fecha de la transacción\n",
        "- TransactionTime: la hora de la transacción\n",
        "- TransactionAmount (INR): la cantidad de la transacción en rupias indias (INR).\n",
        "\n",
        "Con esta información, se procederá con la limpieza y codificación de los datos."
      ]
    },
    {
      "cell_type": "code",
      "execution_count": 67,
      "metadata": {
        "colab": {
          "base_uri": "https://localhost:8080/",
          "height": 424
        },
        "id": "kaMfc2dPt2qK",
        "outputId": "1177b5ca-1613-4bef-ad53-1b7a9d220c95"
      },
      "outputs": [
        {
          "data": {
            "text/html": [
              "<div>\n",
              "<style scoped>\n",
              "    .dataframe tbody tr th:only-of-type {\n",
              "        vertical-align: middle;\n",
              "    }\n",
              "\n",
              "    .dataframe tbody tr th {\n",
              "        vertical-align: top;\n",
              "    }\n",
              "\n",
              "    .dataframe thead th {\n",
              "        text-align: right;\n",
              "    }\n",
              "</style>\n",
              "<table border=\"1\" class=\"dataframe\">\n",
              "  <thead>\n",
              "    <tr style=\"text-align: right;\">\n",
              "      <th></th>\n",
              "      <th>CustGender</th>\n",
              "      <th>CustLocation</th>\n",
              "      <th>CustAccountBalance</th>\n",
              "      <th>TransactionTime</th>\n",
              "      <th>TransactionAmount (INR)</th>\n",
              "    </tr>\n",
              "  </thead>\n",
              "  <tbody>\n",
              "    <tr>\n",
              "      <th>0</th>\n",
              "      <td>F</td>\n",
              "      <td>JAMSHEDPUR</td>\n",
              "      <td>17819.05</td>\n",
              "      <td>143207</td>\n",
              "      <td>25.0</td>\n",
              "    </tr>\n",
              "    <tr>\n",
              "      <th>1</th>\n",
              "      <td>M</td>\n",
              "      <td>JHAJJAR</td>\n",
              "      <td>2270.69</td>\n",
              "      <td>141858</td>\n",
              "      <td>27999.0</td>\n",
              "    </tr>\n",
              "    <tr>\n",
              "      <th>2</th>\n",
              "      <td>F</td>\n",
              "      <td>MUMBAI</td>\n",
              "      <td>17874.44</td>\n",
              "      <td>142712</td>\n",
              "      <td>459.0</td>\n",
              "    </tr>\n",
              "    <tr>\n",
              "      <th>3</th>\n",
              "      <td>F</td>\n",
              "      <td>MUMBAI</td>\n",
              "      <td>866503.21</td>\n",
              "      <td>142714</td>\n",
              "      <td>2060.0</td>\n",
              "    </tr>\n",
              "    <tr>\n",
              "      <th>4</th>\n",
              "      <td>F</td>\n",
              "      <td>NAVI MUMBAI</td>\n",
              "      <td>6714.43</td>\n",
              "      <td>181156</td>\n",
              "      <td>1762.5</td>\n",
              "    </tr>\n",
              "  </tbody>\n",
              "</table>\n",
              "</div>"
            ],
            "text/plain": [
              "  CustGender CustLocation  CustAccountBalance  TransactionTime  \\\n",
              "0          F   JAMSHEDPUR            17819.05           143207   \n",
              "1          M      JHAJJAR             2270.69           141858   \n",
              "2          F       MUMBAI            17874.44           142712   \n",
              "3          F       MUMBAI           866503.21           142714   \n",
              "4          F  NAVI MUMBAI             6714.43           181156   \n",
              "\n",
              "   TransactionAmount (INR)  \n",
              "0                     25.0  \n",
              "1                  27999.0  \n",
              "2                    459.0  \n",
              "3                   2060.0  \n",
              "4                   1762.5  "
            ]
          },
          "execution_count": 67,
          "metadata": {},
          "output_type": "execute_result"
        }
      ],
      "source": [
        "# Se eliminan estas variables categóricas que no sirven ningún propósito.\n",
        "data = data.drop([\"TransactionID\", \"CustomerID\", \"CustomerDOB\", \"TransactionDate\"], axis=1)\n",
        "data.head()"
      ]
    },
    {
      "cell_type": "code",
      "execution_count": 68,
      "metadata": {
        "colab": {
          "base_uri": "https://localhost:8080/",
          "height": 424
        },
        "id": "EBAz4KhAwwRF",
        "outputId": "2b493a2a-7687-4c77-c65f-bb4dcc379d10"
      },
      "outputs": [
        {
          "data": {
            "text/html": [
              "<div>\n",
              "<style scoped>\n",
              "    .dataframe tbody tr th:only-of-type {\n",
              "        vertical-align: middle;\n",
              "    }\n",
              "\n",
              "    .dataframe tbody tr th {\n",
              "        vertical-align: top;\n",
              "    }\n",
              "\n",
              "    .dataframe thead th {\n",
              "        text-align: right;\n",
              "    }\n",
              "</style>\n",
              "<table border=\"1\" class=\"dataframe\">\n",
              "  <thead>\n",
              "    <tr style=\"text-align: right;\">\n",
              "      <th></th>\n",
              "      <th>CustGender</th>\n",
              "      <th>CustLocation</th>\n",
              "      <th>CustAccountBalance</th>\n",
              "      <th>TransactionTime</th>\n",
              "      <th>TransactionAmount (INR)</th>\n",
              "    </tr>\n",
              "  </thead>\n",
              "  <tbody>\n",
              "    <tr>\n",
              "      <th>0</th>\n",
              "      <td>0.0</td>\n",
              "      <td>JAMSHEDPUR</td>\n",
              "      <td>17819.05</td>\n",
              "      <td>143207</td>\n",
              "      <td>25.0</td>\n",
              "    </tr>\n",
              "    <tr>\n",
              "      <th>1</th>\n",
              "      <td>1.0</td>\n",
              "      <td>JHAJJAR</td>\n",
              "      <td>2270.69</td>\n",
              "      <td>141858</td>\n",
              "      <td>27999.0</td>\n",
              "    </tr>\n",
              "    <tr>\n",
              "      <th>2</th>\n",
              "      <td>0.0</td>\n",
              "      <td>MUMBAI</td>\n",
              "      <td>17874.44</td>\n",
              "      <td>142712</td>\n",
              "      <td>459.0</td>\n",
              "    </tr>\n",
              "    <tr>\n",
              "      <th>3</th>\n",
              "      <td>0.0</td>\n",
              "      <td>MUMBAI</td>\n",
              "      <td>866503.21</td>\n",
              "      <td>142714</td>\n",
              "      <td>2060.0</td>\n",
              "    </tr>\n",
              "    <tr>\n",
              "      <th>4</th>\n",
              "      <td>0.0</td>\n",
              "      <td>NAVI MUMBAI</td>\n",
              "      <td>6714.43</td>\n",
              "      <td>181156</td>\n",
              "      <td>1762.5</td>\n",
              "    </tr>\n",
              "  </tbody>\n",
              "</table>\n",
              "</div>"
            ],
            "text/plain": [
              "   CustGender CustLocation  CustAccountBalance  TransactionTime  \\\n",
              "0         0.0   JAMSHEDPUR            17819.05           143207   \n",
              "1         1.0      JHAJJAR             2270.69           141858   \n",
              "2         0.0       MUMBAI            17874.44           142712   \n",
              "3         0.0       MUMBAI           866503.21           142714   \n",
              "4         0.0  NAVI MUMBAI             6714.43           181156   \n",
              "\n",
              "   TransactionAmount (INR)  \n",
              "0                     25.0  \n",
              "1                  27999.0  \n",
              "2                    459.0  \n",
              "3                   2060.0  \n",
              "4                   1762.5  "
            ]
          },
          "execution_count": 68,
          "metadata": {},
          "output_type": "execute_result"
        }
      ],
      "source": [
        "# Se hace un mapeo para codificar el género del cliente.\n",
        "gender_map = { \"M\": 1, \"F\": 0 }\n",
        "data[\"CustGender\"] = data[\"CustGender\"].replace(gender_map)\n",
        "\n",
        "# Convertimos la columna a valores numéricos.\n",
        "data[\"CustGender\"] = pd.to_numeric(data[\"CustGender\"], errors=\"coerce\")\n",
        "data.head()"
      ]
    },
    {
      "cell_type": "code",
      "execution_count": 69,
      "metadata": {},
      "outputs": [
        {
          "data": {
            "text/plain": [
              "CustGender                 0.001050\n",
              "CustLocation               0.000144\n",
              "CustAccountBalance         0.002259\n",
              "TransactionTime            0.000000\n",
              "TransactionAmount (INR)    0.000000\n",
              "dtype: float64"
            ]
          },
          "execution_count": 69,
          "metadata": {},
          "output_type": "execute_result"
        }
      ],
      "source": [
        "# Verificación de la cantidad de valores nulos.\n",
        "null_data = data.isnull().sum()\n",
        "null_data / len(data)"
      ]
    },
    {
      "cell_type": "code",
      "execution_count": 70,
      "metadata": {
        "colab": {
          "base_uri": "https://localhost:8080/",
          "height": 424
        },
        "id": "-95AFGOGwsSC",
        "outputId": "669c323b-ae62-4413-e12f-89b3f350bbd9"
      },
      "outputs": [
        {
          "data": {
            "text/html": [
              "<div>\n",
              "<style scoped>\n",
              "    .dataframe tbody tr th:only-of-type {\n",
              "        vertical-align: middle;\n",
              "    }\n",
              "\n",
              "    .dataframe tbody tr th {\n",
              "        vertical-align: top;\n",
              "    }\n",
              "\n",
              "    .dataframe thead th {\n",
              "        text-align: right;\n",
              "    }\n",
              "</style>\n",
              "<table border=\"1\" class=\"dataframe\">\n",
              "  <thead>\n",
              "    <tr style=\"text-align: right;\">\n",
              "      <th></th>\n",
              "      <th>CustGender</th>\n",
              "      <th>CustLocation</th>\n",
              "      <th>CustAccountBalance</th>\n",
              "      <th>TransactionTime</th>\n",
              "      <th>TransactionAmount (INR)</th>\n",
              "    </tr>\n",
              "  </thead>\n",
              "  <tbody>\n",
              "    <tr>\n",
              "      <th>0</th>\n",
              "      <td>0.0</td>\n",
              "      <td>JAMSHEDPUR</td>\n",
              "      <td>17819.05</td>\n",
              "      <td>143207</td>\n",
              "      <td>25.0</td>\n",
              "    </tr>\n",
              "    <tr>\n",
              "      <th>1</th>\n",
              "      <td>1.0</td>\n",
              "      <td>JHAJJAR</td>\n",
              "      <td>2270.69</td>\n",
              "      <td>141858</td>\n",
              "      <td>27999.0</td>\n",
              "    </tr>\n",
              "    <tr>\n",
              "      <th>2</th>\n",
              "      <td>0.0</td>\n",
              "      <td>MUMBAI</td>\n",
              "      <td>17874.44</td>\n",
              "      <td>142712</td>\n",
              "      <td>459.0</td>\n",
              "    </tr>\n",
              "    <tr>\n",
              "      <th>3</th>\n",
              "      <td>0.0</td>\n",
              "      <td>MUMBAI</td>\n",
              "      <td>866503.21</td>\n",
              "      <td>142714</td>\n",
              "      <td>2060.0</td>\n",
              "    </tr>\n",
              "    <tr>\n",
              "      <th>4</th>\n",
              "      <td>0.0</td>\n",
              "      <td>NAVI MUMBAI</td>\n",
              "      <td>6714.43</td>\n",
              "      <td>181156</td>\n",
              "      <td>1762.5</td>\n",
              "    </tr>\n",
              "  </tbody>\n",
              "</table>\n",
              "</div>"
            ],
            "text/plain": [
              "   CustGender CustLocation  CustAccountBalance  TransactionTime  \\\n",
              "0         0.0   JAMSHEDPUR            17819.05           143207   \n",
              "1         1.0      JHAJJAR             2270.69           141858   \n",
              "2         0.0       MUMBAI            17874.44           142712   \n",
              "3         0.0       MUMBAI           866503.21           142714   \n",
              "4         0.0  NAVI MUMBAI             6714.43           181156   \n",
              "\n",
              "   TransactionAmount (INR)  \n",
              "0                     25.0  \n",
              "1                  27999.0  \n",
              "2                    459.0  \n",
              "3                   2060.0  \n",
              "4                   1762.5  "
            ]
          },
          "execution_count": 70,
          "metadata": {},
          "output_type": "execute_result"
        }
      ],
      "source": [
        "# Se eliminan datos faltantes o nulos.\n",
        "data = data.dropna()\n",
        "data.head()"
      ]
    },
    {
      "cell_type": "code",
      "execution_count": 71,
      "metadata": {
        "colab": {
          "base_uri": "https://localhost:8080/",
          "height": 551
        },
        "id": "liyhSBq4zjsZ",
        "outputId": "d21c674a-ed0f-411b-ba2b-912c48fd11eb"
      },
      "outputs": [
        {
          "data": {
            "text/html": [
              "<div>\n",
              "<style scoped>\n",
              "    .dataframe tbody tr th:only-of-type {\n",
              "        vertical-align: middle;\n",
              "    }\n",
              "\n",
              "    .dataframe tbody tr th {\n",
              "        vertical-align: top;\n",
              "    }\n",
              "\n",
              "    .dataframe thead th {\n",
              "        text-align: right;\n",
              "    }\n",
              "</style>\n",
              "<table border=\"1\" class=\"dataframe\">\n",
              "  <thead>\n",
              "    <tr style=\"text-align: right;\">\n",
              "      <th></th>\n",
              "      <th>CustGender</th>\n",
              "      <th>CustLocation</th>\n",
              "      <th>CustAccountBalance</th>\n",
              "      <th>TransactionTime</th>\n",
              "      <th>TransactionAmount (INR)</th>\n",
              "    </tr>\n",
              "  </thead>\n",
              "  <tbody>\n",
              "    <tr>\n",
              "      <th>0</th>\n",
              "      <td>0.0</td>\n",
              "      <td>JAMSHEDPUR</td>\n",
              "      <td>-0.115327</td>\n",
              "      <td>143207</td>\n",
              "      <td>-0.235558</td>\n",
              "    </tr>\n",
              "    <tr>\n",
              "      <th>1</th>\n",
              "      <td>1.0</td>\n",
              "      <td>JHAJJAR</td>\n",
              "      <td>-0.133684</td>\n",
              "      <td>141858</td>\n",
              "      <td>4.022106</td>\n",
              "    </tr>\n",
              "    <tr>\n",
              "      <th>2</th>\n",
              "      <td>0.0</td>\n",
              "      <td>MUMBAI</td>\n",
              "      <td>-0.115261</td>\n",
              "      <td>142712</td>\n",
              "      <td>-0.169503</td>\n",
              "    </tr>\n",
              "    <tr>\n",
              "      <th>3</th>\n",
              "      <td>0.0</td>\n",
              "      <td>MUMBAI</td>\n",
              "      <td>0.886688</td>\n",
              "      <td>142714</td>\n",
              "      <td>0.074170</td>\n",
              "    </tr>\n",
              "    <tr>\n",
              "      <th>4</th>\n",
              "      <td>0.0</td>\n",
              "      <td>NAVI MUMBAI</td>\n",
              "      <td>-0.128438</td>\n",
              "      <td>181156</td>\n",
              "      <td>0.028891</td>\n",
              "    </tr>\n",
              "  </tbody>\n",
              "</table>\n",
              "</div>"
            ],
            "text/plain": [
              "   CustGender CustLocation  CustAccountBalance  TransactionTime  \\\n",
              "0         0.0   JAMSHEDPUR           -0.115327           143207   \n",
              "1         1.0      JHAJJAR           -0.133684           141858   \n",
              "2         0.0       MUMBAI           -0.115261           142712   \n",
              "3         0.0       MUMBAI            0.886688           142714   \n",
              "4         0.0  NAVI MUMBAI           -0.128438           181156   \n",
              "\n",
              "   TransactionAmount (INR)  \n",
              "0                -0.235558  \n",
              "1                 4.022106  \n",
              "2                -0.169503  \n",
              "3                 0.074170  \n",
              "4                 0.028891  "
            ]
          },
          "execution_count": 71,
          "metadata": {},
          "output_type": "execute_result"
        }
      ],
      "source": [
        "# Escalamiento de la data con StandardScaler.\n",
        "from sklearn.preprocessing import StandardScaler\n",
        "\n",
        "# Proceso de escalamiento de la data.\n",
        "scaler = StandardScaler()\n",
        "data[[\"CustAccountBalance\", \"TransactionAmount (INR)\"]] = scaler.fit_transform(data[[\"CustAccountBalance\", \"TransactionAmount (INR)\"]])\n",
        "data.head()"
      ]
    },
    {
      "cell_type": "code",
      "execution_count": 72,
      "metadata": {
        "colab": {
          "base_uri": "https://localhost:8080/",
          "height": 551
        },
        "id": "RWXmKwL4z14x",
        "outputId": "9ba104c8-fbb7-445f-cf5a-bf3a3ea5a8b5"
      },
      "outputs": [
        {
          "data": {
            "text/html": [
              "<div>\n",
              "<style scoped>\n",
              "    .dataframe tbody tr th:only-of-type {\n",
              "        vertical-align: middle;\n",
              "    }\n",
              "\n",
              "    .dataframe tbody tr th {\n",
              "        vertical-align: top;\n",
              "    }\n",
              "\n",
              "    .dataframe thead th {\n",
              "        text-align: right;\n",
              "    }\n",
              "</style>\n",
              "<table border=\"1\" class=\"dataframe\">\n",
              "  <thead>\n",
              "    <tr style=\"text-align: right;\">\n",
              "      <th></th>\n",
              "      <th>CustGender</th>\n",
              "      <th>CustLocation</th>\n",
              "      <th>CustAccountBalance</th>\n",
              "      <th>TransactionTime</th>\n",
              "      <th>TransactionAmount (INR)</th>\n",
              "    </tr>\n",
              "  </thead>\n",
              "  <tbody>\n",
              "    <tr>\n",
              "      <th>0</th>\n",
              "      <td>0.0</td>\n",
              "      <td>JAMSHEDPUR</td>\n",
              "      <td>-0.115327</td>\n",
              "      <td>143207</td>\n",
              "      <td>-0.235558</td>\n",
              "    </tr>\n",
              "    <tr>\n",
              "      <th>1</th>\n",
              "      <td>1.0</td>\n",
              "      <td>JHAJJAR</td>\n",
              "      <td>-0.133684</td>\n",
              "      <td>141858</td>\n",
              "      <td>4.022106</td>\n",
              "    </tr>\n",
              "    <tr>\n",
              "      <th>2</th>\n",
              "      <td>0.0</td>\n",
              "      <td>MUMBAI</td>\n",
              "      <td>-0.115261</td>\n",
              "      <td>142712</td>\n",
              "      <td>-0.169503</td>\n",
              "    </tr>\n",
              "    <tr>\n",
              "      <th>3</th>\n",
              "      <td>0.0</td>\n",
              "      <td>MUMBAI</td>\n",
              "      <td>0.886688</td>\n",
              "      <td>142714</td>\n",
              "      <td>0.074170</td>\n",
              "    </tr>\n",
              "    <tr>\n",
              "      <th>4</th>\n",
              "      <td>0.0</td>\n",
              "      <td>NAVI MUMBAI</td>\n",
              "      <td>-0.128438</td>\n",
              "      <td>181156</td>\n",
              "      <td>0.028891</td>\n",
              "    </tr>\n",
              "  </tbody>\n",
              "</table>\n",
              "</div>"
            ],
            "text/plain": [
              "   CustGender CustLocation  CustAccountBalance  TransactionTime  \\\n",
              "0         0.0   JAMSHEDPUR           -0.115327           143207   \n",
              "1         1.0      JHAJJAR           -0.133684           141858   \n",
              "2         0.0       MUMBAI           -0.115261           142712   \n",
              "3         0.0       MUMBAI            0.886688           142714   \n",
              "4         0.0  NAVI MUMBAI           -0.128438           181156   \n",
              "\n",
              "   TransactionAmount (INR)  \n",
              "0                -0.235558  \n",
              "1                 4.022106  \n",
              "2                -0.169503  \n",
              "3                 0.074170  \n",
              "4                 0.028891  "
            ]
          },
          "execution_count": 72,
          "metadata": {},
          "output_type": "execute_result"
        }
      ],
      "source": [
        "# Balanceo de la data utilizando la mediana de las columnas respectivas.\n",
        "median_balance = data[[\"CustAccountBalance\"]].median()\n",
        "fill_median = data[[\"CustAccountBalance\"]].fillna(median_balance)\n",
        "data.loc[:, \"CustAccountBalance\"] = fill_median\n",
        "data.head()"
      ]
    },
    {
      "cell_type": "code",
      "execution_count": 73,
      "metadata": {
        "colab": {
          "base_uri": "https://localhost:8080/",
          "height": 551
        },
        "id": "a2nSrmqJ2dgU",
        "outputId": "e16aa8b6-b8e0-4da9-bcf0-32d3604c3fb5"
      },
      "outputs": [
        {
          "name": "stderr",
          "output_type": "stream",
          "text": [
            "/var/folders/px/hgwfbp6x6h7935z1rly0brtm0000gn/T/ipykernel_98966/31492479.py:6: DeprecationWarning: In a future version, `df.iloc[:, i] = newvals` will attempt to set the values inplace instead of always setting a new array. To retain the old behavior, use either `df[df.columns[i]] = newvals` or, if columns are non-unique, `df.isetitem(i, newvals)`\n",
            "  data.loc[:, \"CustLocation\"] = le.fit_transform(data[\"CustLocation\"])\n"
          ]
        },
        {
          "data": {
            "text/html": [
              "<div>\n",
              "<style scoped>\n",
              "    .dataframe tbody tr th:only-of-type {\n",
              "        vertical-align: middle;\n",
              "    }\n",
              "\n",
              "    .dataframe tbody tr th {\n",
              "        vertical-align: top;\n",
              "    }\n",
              "\n",
              "    .dataframe thead th {\n",
              "        text-align: right;\n",
              "    }\n",
              "</style>\n",
              "<table border=\"1\" class=\"dataframe\">\n",
              "  <thead>\n",
              "    <tr style=\"text-align: right;\">\n",
              "      <th></th>\n",
              "      <th>CustGender</th>\n",
              "      <th>CustLocation</th>\n",
              "      <th>CustAccountBalance</th>\n",
              "      <th>TransactionTime</th>\n",
              "      <th>TransactionAmount (INR)</th>\n",
              "    </tr>\n",
              "  </thead>\n",
              "  <tbody>\n",
              "    <tr>\n",
              "      <th>0</th>\n",
              "      <td>0.0</td>\n",
              "      <td>3567</td>\n",
              "      <td>-0.115327</td>\n",
              "      <td>143207</td>\n",
              "      <td>-0.235558</td>\n",
              "    </tr>\n",
              "    <tr>\n",
              "      <th>1</th>\n",
              "      <td>1.0</td>\n",
              "      <td>3629</td>\n",
              "      <td>-0.133684</td>\n",
              "      <td>141858</td>\n",
              "      <td>4.022106</td>\n",
              "    </tr>\n",
              "    <tr>\n",
              "      <th>2</th>\n",
              "      <td>0.0</td>\n",
              "      <td>5242</td>\n",
              "      <td>-0.115261</td>\n",
              "      <td>142712</td>\n",
              "      <td>-0.169503</td>\n",
              "    </tr>\n",
              "    <tr>\n",
              "      <th>3</th>\n",
              "      <td>0.0</td>\n",
              "      <td>5242</td>\n",
              "      <td>0.886688</td>\n",
              "      <td>142714</td>\n",
              "      <td>0.074170</td>\n",
              "    </tr>\n",
              "    <tr>\n",
              "      <th>4</th>\n",
              "      <td>0.0</td>\n",
              "      <td>5631</td>\n",
              "      <td>-0.128438</td>\n",
              "      <td>181156</td>\n",
              "      <td>0.028891</td>\n",
              "    </tr>\n",
              "  </tbody>\n",
              "</table>\n",
              "</div>"
            ],
            "text/plain": [
              "   CustGender  CustLocation  CustAccountBalance  TransactionTime  \\\n",
              "0         0.0          3567           -0.115327           143207   \n",
              "1         1.0          3629           -0.133684           141858   \n",
              "2         0.0          5242           -0.115261           142712   \n",
              "3         0.0          5242            0.886688           142714   \n",
              "4         0.0          5631           -0.128438           181156   \n",
              "\n",
              "   TransactionAmount (INR)  \n",
              "0                -0.235558  \n",
              "1                 4.022106  \n",
              "2                -0.169503  \n",
              "3                 0.074170  \n",
              "4                 0.028891  "
            ]
          },
          "execution_count": 73,
          "metadata": {},
          "output_type": "execute_result"
        }
      ],
      "source": [
        "# LabelEncoder importado para codificar la variable categórica.\n",
        "from sklearn.preprocessing import LabelEncoder\n",
        "\n",
        "# Codificación de la variable categórica.\n",
        "le = LabelEncoder()\n",
        "data.loc[:, \"CustLocation\"] = le.fit_transform(data[\"CustLocation\"])\n",
        "data.head()"
      ]
    },
    {
      "cell_type": "code",
      "execution_count": 74,
      "metadata": {},
      "outputs": [
        {
          "data": {
            "text/html": [
              "<div>\n",
              "<style scoped>\n",
              "    .dataframe tbody tr th:only-of-type {\n",
              "        vertical-align: middle;\n",
              "    }\n",
              "\n",
              "    .dataframe tbody tr th {\n",
              "        vertical-align: top;\n",
              "    }\n",
              "\n",
              "    .dataframe thead th {\n",
              "        text-align: right;\n",
              "    }\n",
              "</style>\n",
              "<table border=\"1\" class=\"dataframe\">\n",
              "  <thead>\n",
              "    <tr style=\"text-align: right;\">\n",
              "      <th></th>\n",
              "      <th>CustGender</th>\n",
              "      <th>CustLocation</th>\n",
              "      <th>CustAccountBalance</th>\n",
              "      <th>TransactionTime</th>\n",
              "      <th>TransactionAmount (INR)</th>\n",
              "    </tr>\n",
              "  </thead>\n",
              "  <tbody>\n",
              "    <tr>\n",
              "      <th>count</th>\n",
              "      <td>1.044946e+06</td>\n",
              "      <td>1.044946e+06</td>\n",
              "      <td>1.044946e+06</td>\n",
              "      <td>1.044946e+06</td>\n",
              "      <td>1.044946e+06</td>\n",
              "    </tr>\n",
              "    <tr>\n",
              "      <th>mean</th>\n",
              "      <td>7.308559e-01</td>\n",
              "      <td>4.104684e+03</td>\n",
              "      <td>-3.016393e-17</td>\n",
              "      <td>1.571001e+05</td>\n",
              "      <td>1.332217e-16</td>\n",
              "    </tr>\n",
              "    <tr>\n",
              "      <th>std</th>\n",
              "      <td>4.435152e-01</td>\n",
              "      <td>2.377073e+03</td>\n",
              "      <td>1.000000e+00</td>\n",
              "      <td>5.126609e+04</td>\n",
              "      <td>1.000000e+00</td>\n",
              "    </tr>\n",
              "    <tr>\n",
              "      <th>min</th>\n",
              "      <td>0.000000e+00</td>\n",
              "      <td>0.000000e+00</td>\n",
              "      <td>-1.363652e-01</td>\n",
              "      <td>0.000000e+00</td>\n",
              "      <td>-2.393632e-01</td>\n",
              "    </tr>\n",
              "    <tr>\n",
              "      <th>25%</th>\n",
              "      <td>0.000000e+00</td>\n",
              "      <td>2.062000e+03</td>\n",
              "      <td>-1.307740e-01</td>\n",
              "      <td>1.240330e+05</td>\n",
              "      <td>-2.148589e-01</td>\n",
              "    </tr>\n",
              "    <tr>\n",
              "      <th>50%</th>\n",
              "      <td>1.000000e+00</td>\n",
              "      <td>4.101000e+03</td>\n",
              "      <td>-1.165098e-01</td>\n",
              "      <td>1.642360e+05</td>\n",
              "      <td>-1.694239e-01</td>\n",
              "    </tr>\n",
              "    <tr>\n",
              "      <th>75%</th>\n",
              "      <td>1.000000e+00</td>\n",
              "      <td>5.766000e+03</td>\n",
              "      <td>-6.823476e-02</td>\n",
              "      <td>2.000160e+05</td>\n",
              "      <td>-5.672226e-02</td>\n",
              "    </tr>\n",
              "    <tr>\n",
              "      <th>max</th>\n",
              "      <td>1.000000e+00</td>\n",
              "      <td>9.325000e+03</td>\n",
              "      <td>1.356825e+02</td>\n",
              "      <td>2.359590e+05</td>\n",
              "      <td>2.371992e+02</td>\n",
              "    </tr>\n",
              "  </tbody>\n",
              "</table>\n",
              "</div>"
            ],
            "text/plain": [
              "         CustGender  CustLocation  CustAccountBalance  TransactionTime  \\\n",
              "count  1.044946e+06  1.044946e+06        1.044946e+06     1.044946e+06   \n",
              "mean   7.308559e-01  4.104684e+03       -3.016393e-17     1.571001e+05   \n",
              "std    4.435152e-01  2.377073e+03        1.000000e+00     5.126609e+04   \n",
              "min    0.000000e+00  0.000000e+00       -1.363652e-01     0.000000e+00   \n",
              "25%    0.000000e+00  2.062000e+03       -1.307740e-01     1.240330e+05   \n",
              "50%    1.000000e+00  4.101000e+03       -1.165098e-01     1.642360e+05   \n",
              "75%    1.000000e+00  5.766000e+03       -6.823476e-02     2.000160e+05   \n",
              "max    1.000000e+00  9.325000e+03        1.356825e+02     2.359590e+05   \n",
              "\n",
              "       TransactionAmount (INR)  \n",
              "count             1.044946e+06  \n",
              "mean              1.332217e-16  \n",
              "std               1.000000e+00  \n",
              "min              -2.393632e-01  \n",
              "25%              -2.148589e-01  \n",
              "50%              -1.694239e-01  \n",
              "75%              -5.672226e-02  \n",
              "max               2.371992e+02  "
            ]
          },
          "execution_count": 74,
          "metadata": {},
          "output_type": "execute_result"
        }
      ],
      "source": [
        "# Ahora se hace una breve descripción estadística de los datos.\n",
        "data.describe()"
      ]
    },
    {
      "cell_type": "code",
      "execution_count": 75,
      "metadata": {},
      "outputs": [
        {
          "name": "stdout",
          "output_type": "stream",
          "text": [
            "<class 'pandas.core.frame.DataFrame'>\n",
            "Int64Index: 1044946 entries, 0 to 1048566\n",
            "Data columns (total 5 columns):\n",
            " #   Column                   Non-Null Count    Dtype  \n",
            "---  ------                   --------------    -----  \n",
            " 0   CustGender               1044946 non-null  float64\n",
            " 1   CustLocation             1044946 non-null  int64  \n",
            " 2   CustAccountBalance       1044946 non-null  float64\n",
            " 3   TransactionTime          1044946 non-null  int64  \n",
            " 4   TransactionAmount (INR)  1044946 non-null  float64\n",
            "dtypes: float64(3), int64(2)\n",
            "memory usage: 47.8 MB\n"
          ]
        }
      ],
      "source": [
        "# También se obtiene un poco sobre la informacion de los datos.\n",
        "data.info()"
      ]
    },
    {
      "cell_type": "code",
      "execution_count": 76,
      "metadata": {},
      "outputs": [
        {
          "data": {
            "text/plain": [
              "CustLocation\n",
              "0       11\n",
              "1        1\n",
              "2       21\n",
              "3        5\n",
              "4       11\n",
              "        ..\n",
              "9321     1\n",
              "9322     6\n",
              "9323     4\n",
              "9324     9\n",
              "9325     1\n",
              "Length: 9326, dtype: int64"
            ]
          },
          "execution_count": 76,
          "metadata": {},
          "output_type": "execute_result"
        }
      ],
      "source": [
        "# Se explora la cantidad de ubicaciones para tener una noción sobre la variable.\n",
        "data.groupby(\"CustLocation\").size()"
      ]
    },
    {
      "attachments": {},
      "cell_type": "markdown",
      "metadata": {},
      "source": [
        "## Task 1.1 - K-Mean Clustering"
      ]
    },
    {
      "attachments": {},
      "cell_type": "markdown",
      "metadata": {},
      "source": [
        "El presente task, posterior a la limpieza y análisis exploratorio de los datos proporcionados, consiste en la implementación del modelo de K-Means por parte de nuestro equipo de trabajo. A continuación se encuentran todas las funciones necesarias para la implementación del modelo por cuenta propia."
      ]
    },
    {
      "cell_type": "code",
      "execution_count": 77,
      "metadata": {},
      "outputs": [
        {
          "data": {
            "image/png": "[encoded data removed]",
            "text/plain": [
              "<Figure size 640x480 with 1 Axes>"
            ]
          },
          "metadata": {},
          "output_type": "display_data"
        }
      ],
      "source": [
        "# Comenzamos seleccionando las variables que nos interesan.\n",
        "X = data[[\"CustAccountBalance\", \"TransactionAmount (INR)\"]]\n",
        "\n",
        "\n",
        "# Se grafican los puntos del dataset.\n",
        "plt.scatter(X[\"CustAccountBalance\"], X[\"TransactionAmount (INR)\"], c=\"red\")\n",
        "plt.xlabel(\"CustAccountBalance\")\n",
        "plt.ylabel(\"TransactionAmount (INR)\")\n",
        "plt.show()"
      ]
    },
    {
      "cell_type": "code",
      "execution_count": 78,
      "metadata": {},
      "outputs": [
        {
          "data": {
            "image/png": "[encoded data removed]",
            "text/plain": [
              "<Figure size 640x480 with 1 Axes>"
            ]
          },
          "metadata": {},
          "output_type": "display_data"
        }
      ],
      "source": [
        "# Step 1 and 2 - Choose the number of clusters (k) and select random centroid for each cluster\n",
        "\n",
        "#number of clusters\n",
        "K=3\n",
        "\n",
        "# Select random observation as centroids\n",
        "Centroids = (X.sample(n=K))\n",
        "\n",
        "plt.scatter(X[\"CustAccountBalance\"], X[\"TransactionAmount (INR)\"], c=\"red\")\n",
        "plt.scatter(Centroids[\"CustAccountBalance\"], Centroids[\"TransactionAmount (INR)\"], c=\"black\")\n",
        "plt.xlabel(\"CustAccountBalance\")\n",
        "plt.ylabel(\"TransactionAmount (INR)\")\n",
        "plt.show()"
      ]
    },
    {
      "cell_type": "code",
      "execution_count": 79,
      "metadata": {},
      "outputs": [
        {
          "name": "stdout",
          "output_type": "stream",
          "text": [
            "1.3118116306537848\n",
            "2.11397846990676\n",
            "2.772701403269642\n",
            "2.503229427180808\n",
            "2.3643561365284436\n",
            "1.1869908173703576\n",
            "0.5601473550590597\n",
            "0.15212043270777653\n",
            "0.5430331384319941\n",
            "0.2876512812791302\n",
            "0.6549400791329769\n",
            "0.739592567437801\n",
            "0.9336078169159885\n",
            "1.7209270376610153\n",
            "2.5669239732487363\n",
            "5.966501500539549\n",
            "5.387257508513404\n",
            "0.0\n"
          ]
        }
      ],
      "source": [
        "# Step 3 - Assign all the points to the closest cluster centroid\n",
        "# Step 4 - Recompute centroids of newly formed clusters\n",
        "# Step 5 - Repeat step 3 and 4\n",
        "\n",
        "inertia = 0\n",
        "diff = 1\n",
        "j = 0\n",
        "\n",
        "while (diff != 0):\n",
        "    XD = X\n",
        "    i = 1\n",
        "    for index1, row_c in Centroids.iterrows():\n",
        "        ED = []\n",
        "        for index2, row_d in XD.iterrows():\n",
        "            d1 = (row_c[\"CustAccountBalance\"] - row_d[\"CustAccountBalance\"]) ** 2\n",
        "            d2 = (row_c[\"TransactionAmount (INR)\"] - row_d[\"TransactionAmount (INR)\"]) ** 2\n",
        "            d = np.sqrt(d1 + d2)\n",
        "            ED.append(d)\n",
        "        X[i] = ED\n",
        "        i += 1\n",
        "\n",
        "    C = []\n",
        "    for index, row in X.iterrows():\n",
        "        min_dist = row[1]\n",
        "        pos = 1\n",
        "        for i in range(K):\n",
        "            if (row[i + 1] < min_dist):\n",
        "                min_dist = row[i + 1]\n",
        "                pos = i + 1\n",
        "        C.append(pos)\n",
        "        inertia += min_dist ** 2  # Add squared distance to inertia\n",
        "    X[\"Cluster\"] = C\n",
        "    Centroids_new = X.groupby([\"Cluster\"]).mean()[[\"TransactionAmount (INR)\", \"CustAccountBalance\"]]\n",
        "    if (j == 0):\n",
        "        diff = 1\n",
        "        j += 1\n",
        "    else:\n",
        "        diff = (Centroids_new[\"TransactionAmount (INR)\"] - Centroids[\"TransactionAmount (INR)\"]).sum() + (Centroids_new[\"CustAccountBalance\"] - Centroids[\"CustAccountBalance\"]).sum()\n",
        "        print(diff.sum())\n",
        "    Centroids = X.groupby([\"Cluster\"]).mean()[[\"TransactionAmount (INR)\", \"CustAccountBalance\"]]\n"
      ]
    },
    {
      "cell_type": "code",
      "execution_count": 80,
      "metadata": {},
      "outputs": [
        {
          "data": {
            "image/png": "[encoded data removed]",
            "text/plain": [
              "<Figure size 640x480 with 1 Axes>"
            ]
          },
          "metadata": {},
          "output_type": "display_data"
        }
      ],
      "source": [
        "color=[\"yellow\",\"green\",\"blue\"]\n",
        "for k in range(K):\n",
        "    data=X[X[\"Cluster\"] == k + 1]\n",
        "    plt.scatter(data[\"CustAccountBalance\"],data[\"TransactionAmount (INR)\"], c=color[k])\n",
        "plt.scatter(Centroids[\"CustAccountBalance\"],Centroids[\"TransactionAmount (INR)\"], c=\"black\")\n",
        "plt.xlabel(\"Account Balance\")\n",
        "plt.ylabel(\"TransactionAmount (INR)\")\n",
        "plt.show()"
      ]
    },
    {
      "cell_type": "code",
      "execution_count": 81,
      "metadata": {},
      "outputs": [
        {
          "name": "stdout",
          "output_type": "stream",
          "text": [
            "Metricas de desempeño\n",
            "\n",
            "Inertia: 282791.40708152374\n",
            "Davies-Bouldin Index: 0.7282532947681913\n",
            "Calinski-Harabasz Index: 141423.99116775813\n"
          ]
        }
      ],
      "source": [
        "print(\"Metricas de desempeño\")\n",
        "print(\"\\nInertia:\", inertia)\n",
        "\n",
        "# Calculate Davies-Bouldin Index\n",
        "cluster_labels = np.unique(C)\n",
        "n_clusters = cluster_labels.shape[0]\n",
        "cluster_centers = Centroids_new[[\"TransactionAmount (INR)\", \"CustAccountBalance\"]].values\n",
        "cluster_distances = pairwise_distances(cluster_centers)\n",
        "cluster_variances = [np.mean(pairwise_distances(X[C == i], metric='euclidean')) for i in cluster_labels]\n",
        "Rij = np.zeros((n_clusters, n_clusters))\n",
        "for i in range(n_clusters):\n",
        "    for j in range(n_clusters):\n",
        "        if i != j:\n",
        "            Rij[i, j] = (cluster_variances[i] + cluster_variances[j]) / cluster_distances[i, j]\n",
        "db_index = np.max(np.sum(Rij, axis=1) / n_clusters)\n",
        "print(\"Davies-Bouldin Index:\", db_index)\n",
        "    \n",
        "# Calculate Calinski-Harabasz Index\n",
        "CH = (inertia / (K - 1)) / ((X.shape[0] - K) / (X.shape[0] - 1))\n",
        "print(\"Calinski-Harabasz Index:\", CH)"
      ]
    },
    {
      "attachments": {},
      "cell_type": "markdown",
      "metadata": {},
      "source": [
        "### Task 1.2 - K-Means Clustering con librería"
      ]
    },
    {
      "cell_type": "code",
      "execution_count": 82,
      "metadata": {},
      "outputs": [
        {
          "name": "stdout",
          "output_type": "stream",
          "text": [
            "<class 'pandas.core.frame.DataFrame'>\n",
            "Int64Index: 83 entries, 193 to 9906\n",
            "Data columns (total 6 columns):\n",
            " #   Column                   Non-Null Count  Dtype  \n",
            "---  ------                   --------------  -----  \n",
            " 0   CustAccountBalance       83 non-null     float64\n",
            " 1   TransactionAmount (INR)  83 non-null     float64\n",
            " 2   1                        83 non-null     float64\n",
            " 3   2                        83 non-null     float64\n",
            " 4   3                        83 non-null     float64\n",
            " 5   Cluster                  83 non-null     int64  \n",
            "dtypes: float64(5), int64(1)\n",
            "memory usage: 4.5 KB\n"
          ]
        },
        {
          "data": {
            "text/plain": [
              "array([9.72302772e-01, 2.30616527e-02, 4.29729873e-03, 3.34949977e-04,\n",
              "       3.32678136e-06, 0.00000000e+00])"
            ]
          },
          "execution_count": 82,
          "metadata": {},
          "output_type": "execute_result"
        }
      ],
      "source": [
        "# Comenzamos importando las librerías importantes para implementar dicho modelo\n",
        "%matplotlib inline\n",
        "from sklearn.cluster import KMeans\n",
        "from sklearn.decomposition import PCA\n",
        "\n",
        "data.info()\n",
        "data.columns = data.columns.astype(str)\n",
        "pca = PCA()\n",
        "pca.fit(data)\n",
        "pca.explained_variance_ratio_"
      ]
    },
    {
      "cell_type": "code",
      "execution_count": 83,
      "metadata": {},
      "outputs": [
        {
          "data": {
            "image/png": "[encoded data removed]",
            "text/plain": [
              "<Figure size 1000x800 with 1 Axes>"
            ]
          },
          "metadata": {},
          "output_type": "display_data"
        }
      ],
      "source": [
        "plt.figure(figsize = (10, 8))\n",
        "plt.plot(range(1, 7), pca.explained_variance_ratio_.cumsum(), marker = \"o\", linestyle = \"--\")\n",
        "plt.title(\"Explained variance ratio by Component\")\n",
        "plt.xlabel(\"Number of Components\")\n",
        "plt.ylabel(\"Cumulative Explained Variance Ratio\")\n",
        "plt.show()"
      ]
    },
    {
      "cell_type": "code",
      "execution_count": 84,
      "metadata": {},
      "outputs": [
        {
          "data": {
            "text/plain": [
              "array([[ 6.88381702e+00, -2.91578387e+00],\n",
              "       [ 1.69974787e+01, -2.42081070e+00],\n",
              "       [-4.35219600e+00,  1.28662249e+00],\n",
              "       [-3.82989356e+00, -1.39077000e-01],\n",
              "       [-5.58952514e+00,  3.86077502e+00],\n",
              "       [-3.12321596e+00, -1.51603202e+00],\n",
              "       [-4.00446071e+00,  6.59490313e-01],\n",
              "       [ 6.92715695e+00, -2.89651959e+00],\n",
              "       [ 6.93662573e+00, -2.89217356e+00],\n",
              "       [ 6.46537262e+00, -2.98346215e+00],\n",
              "       [-2.68788231e+00, -2.07763493e+00],\n",
              "       [ 6.46537262e+00, -2.98346215e+00],\n",
              "       [-3.95098536e+00,  1.69165379e-01],\n",
              "       [-2.54638527e+00, -2.45668285e+00],\n",
              "       [-4.00446071e+00,  6.59490313e-01],\n",
              "       [-5.14199453e+00,  3.04650615e+00],\n",
              "       [-3.86892155e+00, -3.98655633e-01],\n",
              "       [ 6.46537262e+00, -2.98346215e+00],\n",
              "       [-3.84647794e+00, -3.58664575e-01],\n",
              "       [ 1.18764588e-01, -3.23953974e+00],\n",
              "       [-3.65017882e+00, -4.91249665e-02],\n",
              "       [-3.64790325e+00, -4.78009730e-02],\n",
              "       [-4.44626080e+00,  6.28527147e-01],\n",
              "       [ 1.32413965e+00, -3.18822206e+00],\n",
              "       [-5.21675275e+00,  2.86339377e+00],\n",
              "       [ 1.52169097e+00, -3.14678955e+00],\n",
              "       [-3.64852991e+00, -4.81659174e-02],\n",
              "       [-2.31568299e+00, -2.82073881e+00],\n",
              "       [-2.46580815e+00, -2.38892840e+00],\n",
              "       [-2.42092822e+00, -2.34842555e+00],\n",
              "       [-1.32952467e+00, -3.26191913e+00],\n",
              "       [-4.73165422e+00,  1.78089536e+00],\n",
              "       [-3.04914810e+00, -1.46686467e+00],\n",
              "       [-3.64870139e+00, -4.82657335e-02],\n",
              "       [-4.49941969e+00,  1.59501866e+00],\n",
              "       [-5.13487419e+00,  3.04973630e+00],\n",
              "       [-3.67150824e+00, -6.13657705e-02],\n",
              "       [-3.82989356e+00, -1.39077000e-01],\n",
              "       [-3.43330691e-01, -3.20689546e+00],\n",
              "       [-4.31572712e+00,  1.27313780e+00],\n",
              "       [-4.38944784e+00,  5.47561485e-01],\n",
              "       [-4.31572712e+00,  1.27313780e+00],\n",
              "       [-4.08331785e+00,  3.58558724e-01],\n",
              "       [-2.46580815e+00, -2.38892840e+00],\n",
              "       [-3.69127123e+00, -7.24156682e-02],\n",
              "       [-3.44421379e+00, -1.20643040e+00],\n",
              "       [-3.65934912e+00, -5.44258711e-02],\n",
              "       [-6.09766345e+00,  3.84446405e+00],\n",
              "       [-4.57345366e+00,  1.85286495e+00],\n",
              "       [-3.82989356e+00, -1.39077000e-01],\n",
              "       [-5.28143518e+00,  2.98547063e+00],\n",
              "       [-5.13930239e+00,  3.04772637e+00],\n",
              "       [-4.02159354e+00,  6.80287227e-01],\n",
              "       [-1.16010998e+00, -3.20176839e+00],\n",
              "       [-4.74692936e+00,  2.12383945e+00],\n",
              "       [-5.35227249e+00,  3.17212115e+00],\n",
              "       [-4.03028535e+00,  6.45823882e-01],\n",
              "       [-5.03991881e+00,  2.78208645e+00],\n",
              "       [-4.12479703e+00,  5.99645606e-01],\n",
              "       [-1.91454451e+00, -1.96381358e+00],\n",
              "       [-3.42482307e+00, -5.27463713e-01],\n",
              "       [-4.77576418e+00,  2.28544191e+00],\n",
              "       [-4.02159354e+00,  6.80287227e-01],\n",
              "       [-3.13021824e+00, -1.76742154e+00],\n",
              "       [-5.20386781e+00,  3.01885388e+00],\n",
              "       [-5.81781567e+00,  3.46916614e+00],\n",
              "       [ 6.84491354e+00, -2.93209571e+00],\n",
              "       [ 9.73500575e-01, -3.17449800e+00],\n",
              "       [ 6.94164603e+00, -2.88985053e+00],\n",
              "       [ 6.90644036e+00, -2.90586063e+00],\n",
              "       [ 1.10889399e+02,  4.45139655e+00],\n",
              "       [-4.42187088e+00,  1.49369537e+00],\n",
              "       [-4.76141243e+00,  2.14059275e+00],\n",
              "       [-4.15261679e+00,  9.61310820e-01],\n",
              "       [ 6.45762251e+01,  9.42362184e-01],\n",
              "       [-4.98619077e+00,  2.53778507e+00],\n",
              "       [-4.92525824e+00,  2.56406769e+00],\n",
              "       [-5.36889953e+00,  3.54996087e+00],\n",
              "       [-5.46913446e+00,  2.91481988e+00],\n",
              "       [ 6.93513053e+00, -2.89286294e+00],\n",
              "       [-6.18744542e+00,  4.03428464e+00],\n",
              "       [-2.76897872e+00, -1.84785780e+00],\n",
              "       [-4.08359678e+00,  6.18943604e-01]])"
            ]
          },
          "execution_count": 84,
          "metadata": {},
          "output_type": "execute_result"
        }
      ],
      "source": [
        "pca = PCA(n_components=2)\n",
        "pca.fit(data)\n",
        "pca_scores = pca.transform(data)\n",
        "\n",
        "pca_scores"
      ]
    },
    {
      "attachments": {},
      "cell_type": "markdown",
      "metadata": {},
      "source": [
        "### Método del codo para determinar el número de clusters"
      ]
    },
    {
      "cell_type": "code",
      "execution_count": 85,
      "metadata": {},
      "outputs": [
        {
          "name": "stderr",
          "output_type": "stream",
          "text": [
            "/Library/Frameworks/Python.framework/Versions/3.11/lib/python3.11/site-packages/sklearn/cluster/_kmeans.py:870: FutureWarning: The default value of `n_init` will change from 10 to 'auto' in 1.4. Set the value of `n_init` explicitly to suppress the warning\n",
            "  warnings.warn(\n",
            "/Library/Frameworks/Python.framework/Versions/3.11/lib/python3.11/site-packages/sklearn/cluster/_kmeans.py:870: FutureWarning: The default value of `n_init` will change from 10 to 'auto' in 1.4. Set the value of `n_init` explicitly to suppress the warning\n",
            "  warnings.warn(\n",
            "/Library/Frameworks/Python.framework/Versions/3.11/lib/python3.11/site-packages/sklearn/cluster/_kmeans.py:870: FutureWarning: The default value of `n_init` will change from 10 to 'auto' in 1.4. Set the value of `n_init` explicitly to suppress the warning\n",
            "  warnings.warn(\n",
            "/Library/Frameworks/Python.framework/Versions/3.11/lib/python3.11/site-packages/sklearn/cluster/_kmeans.py:870: FutureWarning: The default value of `n_init` will change from 10 to 'auto' in 1.4. Set the value of `n_init` explicitly to suppress the warning\n",
            "  warnings.warn(\n",
            "/Library/Frameworks/Python.framework/Versions/3.11/lib/python3.11/site-packages/sklearn/cluster/_kmeans.py:870: FutureWarning: The default value of `n_init` will change from 10 to 'auto' in 1.4. Set the value of `n_init` explicitly to suppress the warning\n",
            "  warnings.warn(\n",
            "/Library/Frameworks/Python.framework/Versions/3.11/lib/python3.11/site-packages/sklearn/cluster/_kmeans.py:870: FutureWarning: The default value of `n_init` will change from 10 to 'auto' in 1.4. Set the value of `n_init` explicitly to suppress the warning\n",
            "  warnings.warn(\n",
            "/Library/Frameworks/Python.framework/Versions/3.11/lib/python3.11/site-packages/sklearn/cluster/_kmeans.py:870: FutureWarning: The default value of `n_init` will change from 10 to 'auto' in 1.4. Set the value of `n_init` explicitly to suppress the warning\n",
            "  warnings.warn(\n",
            "/Library/Frameworks/Python.framework/Versions/3.11/lib/python3.11/site-packages/sklearn/cluster/_kmeans.py:870: FutureWarning: The default value of `n_init` will change from 10 to 'auto' in 1.4. Set the value of `n_init` explicitly to suppress the warning\n",
            "  warnings.warn(\n",
            "/Library/Frameworks/Python.framework/Versions/3.11/lib/python3.11/site-packages/sklearn/cluster/_kmeans.py:870: FutureWarning: The default value of `n_init` will change from 10 to 'auto' in 1.4. Set the value of `n_init` explicitly to suppress the warning\n",
            "  warnings.warn(\n",
            "/Library/Frameworks/Python.framework/Versions/3.11/lib/python3.11/site-packages/sklearn/cluster/_kmeans.py:870: FutureWarning: The default value of `n_init` will change from 10 to 'auto' in 1.4. Set the value of `n_init` explicitly to suppress the warning\n",
            "  warnings.warn(\n",
            "/Library/Frameworks/Python.framework/Versions/3.11/lib/python3.11/site-packages/sklearn/cluster/_kmeans.py:870: FutureWarning: The default value of `n_init` will change from 10 to 'auto' in 1.4. Set the value of `n_init` explicitly to suppress the warning\n",
            "  warnings.warn(\n",
            "/Library/Frameworks/Python.framework/Versions/3.11/lib/python3.11/site-packages/sklearn/cluster/_kmeans.py:870: FutureWarning: The default value of `n_init` will change from 10 to 'auto' in 1.4. Set the value of `n_init` explicitly to suppress the warning\n",
            "  warnings.warn(\n",
            "/Library/Frameworks/Python.framework/Versions/3.11/lib/python3.11/site-packages/sklearn/cluster/_kmeans.py:870: FutureWarning: The default value of `n_init` will change from 10 to 'auto' in 1.4. Set the value of `n_init` explicitly to suppress the warning\n",
            "  warnings.warn(\n",
            "/Library/Frameworks/Python.framework/Versions/3.11/lib/python3.11/site-packages/sklearn/cluster/_kmeans.py:870: FutureWarning: The default value of `n_init` will change from 10 to 'auto' in 1.4. Set the value of `n_init` explicitly to suppress the warning\n",
            "  warnings.warn(\n",
            "/Library/Frameworks/Python.framework/Versions/3.11/lib/python3.11/site-packages/sklearn/cluster/_kmeans.py:870: FutureWarning: The default value of `n_init` will change from 10 to 'auto' in 1.4. Set the value of `n_init` explicitly to suppress the warning\n",
            "  warnings.warn(\n",
            "/Library/Frameworks/Python.framework/Versions/3.11/lib/python3.11/site-packages/sklearn/cluster/_kmeans.py:870: FutureWarning: The default value of `n_init` will change from 10 to 'auto' in 1.4. Set the value of `n_init` explicitly to suppress the warning\n",
            "  warnings.warn(\n",
            "/Library/Frameworks/Python.framework/Versions/3.11/lib/python3.11/site-packages/sklearn/cluster/_kmeans.py:870: FutureWarning: The default value of `n_init` will change from 10 to 'auto' in 1.4. Set the value of `n_init` explicitly to suppress the warning\n",
            "  warnings.warn(\n",
            "/Library/Frameworks/Python.framework/Versions/3.11/lib/python3.11/site-packages/sklearn/cluster/_kmeans.py:870: FutureWarning: The default value of `n_init` will change from 10 to 'auto' in 1.4. Set the value of `n_init` explicitly to suppress the warning\n",
            "  warnings.warn(\n",
            "/Library/Frameworks/Python.framework/Versions/3.11/lib/python3.11/site-packages/sklearn/cluster/_kmeans.py:870: FutureWarning: The default value of `n_init` will change from 10 to 'auto' in 1.4. Set the value of `n_init` explicitly to suppress the warning\n",
            "  warnings.warn(\n",
            "/Library/Frameworks/Python.framework/Versions/3.11/lib/python3.11/site-packages/sklearn/cluster/_kmeans.py:870: FutureWarning: The default value of `n_init` will change from 10 to 'auto' in 1.4. Set the value of `n_init` explicitly to suppress the warning\n",
            "  warnings.warn(\n"
          ]
        },
        {
          "data": {
            "image/png": "[encoded data removed]",
            "text/plain": [
              "<Figure size 1200x600 with 1 Axes>"
            ]
          },
          "metadata": {},
          "output_type": "display_data"
        }
      ],
      "source": [
        "# fitting multiple k-means algorithms and storing the values in an empty list\n",
        "SSE = []\n",
        "for cluster in range(1,21):\n",
        "    kmeans = KMeans(n_clusters = cluster, init=\"k-means++\", random_state= 42)\n",
        "    kmeans.fit(data)\n",
        "    SSE.append(kmeans.inertia_)\n",
        "\n",
        "plt.figure(figsize=(12,6))\n",
        "plt.plot(range(1, 21), SSE, marker=\"o\", linestyle=\"--\")\n",
        "plt.xlabel(\"Number of clusters\")\n",
        "plt.ylabel(\"SSE\")\n",
        "plt.title(\"K-Means Elbow method\")\n",
        "plt.show()"
      ]
    },
    {
      "cell_type": "code",
      "execution_count": 86,
      "metadata": {},
      "outputs": [
        {
          "name": "stderr",
          "output_type": "stream",
          "text": [
            "/Library/Frameworks/Python.framework/Versions/3.11/lib/python3.11/site-packages/sklearn/cluster/_kmeans.py:870: FutureWarning: The default value of `n_init` will change from 10 to 'auto' in 1.4. Set the value of `n_init` explicitly to suppress the warning\n",
            "  warnings.warn(\n"
          ]
        },
        {
          "data": {
            "text/plain": [
              "array([0, 1, 2], dtype=int32)"
            ]
          },
          "execution_count": 86,
          "metadata": {},
          "output_type": "execute_result"
        }
      ],
      "source": [
        "# k means using 5 clusters and k-means++ initialization\n",
        "kmeans = KMeans(n_clusters = 3, init=\"k-means++\", random_state=42)\n",
        "kmeans.fit(data)\n",
        "pred = kmeans.predict(data)\n",
        "\n",
        "np.unique(pred)"
      ]
    },
    {
      "cell_type": "code",
      "execution_count": 87,
      "metadata": {},
      "outputs": [
        {
          "name": "stderr",
          "output_type": "stream",
          "text": [
            "/var/folders/px/hgwfbp6x6h7935z1rly0brtm0000gn/T/ipykernel_98966/1921380541.py:1: SettingWithCopyWarning: \n",
            "A value is trying to be set on a copy of a slice from a DataFrame.\n",
            "Try using .loc[row_indexer,col_indexer] = value instead\n",
            "\n",
            "See the caveats in the documentation: https://pandas.pydata.org/pandas-docs/stable/user_guide/indexing.html#returning-a-view-versus-a-copy\n",
            "  data[\"Segment K-Means\"] = kmeans.labels_\n"
          ]
        },
        {
          "data": {
            "text/html": [
              "<div>\n",
              "<style scoped>\n",
              "    .dataframe tbody tr th:only-of-type {\n",
              "        vertical-align: middle;\n",
              "    }\n",
              "\n",
              "    .dataframe tbody tr th {\n",
              "        vertical-align: top;\n",
              "    }\n",
              "\n",
              "    .dataframe thead th {\n",
              "        text-align: right;\n",
              "    }\n",
              "</style>\n",
              "<table border=\"1\" class=\"dataframe\">\n",
              "  <thead>\n",
              "    <tr style=\"text-align: right;\">\n",
              "      <th></th>\n",
              "      <th>CustAccountBalance</th>\n",
              "      <th>TransactionAmount (INR)</th>\n",
              "      <th>1</th>\n",
              "      <th>2</th>\n",
              "      <th>3</th>\n",
              "      <th>Cluster</th>\n",
              "      <th>Segment K-Means</th>\n",
              "    </tr>\n",
              "  </thead>\n",
              "  <tbody>\n",
              "    <tr>\n",
              "      <th>193</th>\n",
              "      <td>0.020904</td>\n",
              "      <td>14.980715</td>\n",
              "      <td>24.823642</td>\n",
              "      <td>15.029860</td>\n",
              "      <td>5.075292</td>\n",
              "      <td>3</td>\n",
              "      <td>2</td>\n",
              "    </tr>\n",
              "    <tr>\n",
              "      <th>206</th>\n",
              "      <td>2.068192</td>\n",
              "      <td>20.747602</td>\n",
              "      <td>27.015675</td>\n",
              "      <td>20.900571</td>\n",
              "      <td>10.980300</td>\n",
              "      <td>3</td>\n",
              "      <td>2</td>\n",
              "    </tr>\n",
              "    <tr>\n",
              "      <th>245</th>\n",
              "      <td>-0.044128</td>\n",
              "      <td>6.958212</td>\n",
              "      <td>21.450835</td>\n",
              "      <td>7.007388</td>\n",
              "      <td>2.972942</td>\n",
              "      <td>3</td>\n",
              "      <td>0</td>\n",
              "    </tr>\n",
              "    <tr>\n",
              "      <th>247</th>\n",
              "      <td>0.291274</td>\n",
              "      <td>7.827278</td>\n",
              "      <td>21.386771</td>\n",
              "      <td>7.882254</td>\n",
              "      <td>2.085208</td>\n",
              "      <td>3</td>\n",
              "      <td>0</td>\n",
              "    </tr>\n",
              "    <tr>\n",
              "      <th>313</th>\n",
              "      <td>0.025871</td>\n",
              "      <td>5.315965</td>\n",
              "      <td>20.991177</td>\n",
              "      <td>5.365212</td>\n",
              "      <td>4.604017</td>\n",
              "      <td>3</td>\n",
              "      <td>0</td>\n",
              "    </tr>\n",
              "  </tbody>\n",
              "</table>\n",
              "</div>"
            ],
            "text/plain": [
              "     CustAccountBalance  TransactionAmount (INR)          1          2  \\\n",
              "193            0.020904                14.980715  24.823642  15.029860   \n",
              "206            2.068192                20.747602  27.015675  20.900571   \n",
              "245           -0.044128                 6.958212  21.450835   7.007388   \n",
              "247            0.291274                 7.827278  21.386771   7.882254   \n",
              "313            0.025871                 5.315965  20.991177   5.365212   \n",
              "\n",
              "             3  Cluster  Segment K-Means  \n",
              "193   5.075292        3                2  \n",
              "206  10.980300        3                2  \n",
              "245   2.972942        3                0  \n",
              "247   2.085208        3                0  \n",
              "313   4.604017        3                0  "
            ]
          },
          "execution_count": 87,
          "metadata": {},
          "output_type": "execute_result"
        }
      ],
      "source": [
        "data[\"Segment K-Means\"] = kmeans.labels_\n",
        "data.head()"
      ]
    },
    {
      "cell_type": "code",
      "execution_count": 88,
      "metadata": {},
      "outputs": [
        {
          "name": "stderr",
          "output_type": "stream",
          "text": [
            "/var/folders/px/hgwfbp6x6h7935z1rly0brtm0000gn/T/ipykernel_98966/1596210995.py:1: SettingWithCopyWarning: \n",
            "A value is trying to be set on a copy of a slice from a DataFrame.\n",
            "Try using .loc[row_indexer,col_indexer] = value instead\n",
            "\n",
            "See the caveats in the documentation: https://pandas.pydata.org/pandas-docs/stable/user_guide/indexing.html#returning-a-view-versus-a-copy\n",
            "  data[\"Segment\"] = data[\"Segment K-Means\"].map({0:\"First\", 1:\"Second\", 2:\"Third\"})\n"
          ]
        },
        {
          "data": {
            "text/html": [
              "<div>\n",
              "<style scoped>\n",
              "    .dataframe tbody tr th:only-of-type {\n",
              "        vertical-align: middle;\n",
              "    }\n",
              "\n",
              "    .dataframe tbody tr th {\n",
              "        vertical-align: top;\n",
              "    }\n",
              "\n",
              "    .dataframe thead th {\n",
              "        text-align: right;\n",
              "    }\n",
              "</style>\n",
              "<table border=\"1\" class=\"dataframe\">\n",
              "  <thead>\n",
              "    <tr style=\"text-align: right;\">\n",
              "      <th></th>\n",
              "      <th>CustAccountBalance</th>\n",
              "      <th>TransactionAmount (INR)</th>\n",
              "      <th>1</th>\n",
              "      <th>2</th>\n",
              "      <th>3</th>\n",
              "      <th>Cluster</th>\n",
              "      <th>Segment K-Means</th>\n",
              "      <th>Segment</th>\n",
              "    </tr>\n",
              "  </thead>\n",
              "  <tbody>\n",
              "    <tr>\n",
              "      <th>193</th>\n",
              "      <td>0.020904</td>\n",
              "      <td>14.980715</td>\n",
              "      <td>24.823642</td>\n",
              "      <td>15.029860</td>\n",
              "      <td>5.075292</td>\n",
              "      <td>3</td>\n",
              "      <td>2</td>\n",
              "      <td>Third</td>\n",
              "    </tr>\n",
              "    <tr>\n",
              "      <th>206</th>\n",
              "      <td>2.068192</td>\n",
              "      <td>20.747602</td>\n",
              "      <td>27.015675</td>\n",
              "      <td>20.900571</td>\n",
              "      <td>10.980300</td>\n",
              "      <td>3</td>\n",
              "      <td>2</td>\n",
              "      <td>Third</td>\n",
              "    </tr>\n",
              "    <tr>\n",
              "      <th>245</th>\n",
              "      <td>-0.044128</td>\n",
              "      <td>6.958212</td>\n",
              "      <td>21.450835</td>\n",
              "      <td>7.007388</td>\n",
              "      <td>2.972942</td>\n",
              "      <td>3</td>\n",
              "      <td>0</td>\n",
              "      <td>First</td>\n",
              "    </tr>\n",
              "    <tr>\n",
              "      <th>247</th>\n",
              "      <td>0.291274</td>\n",
              "      <td>7.827278</td>\n",
              "      <td>21.386771</td>\n",
              "      <td>7.882254</td>\n",
              "      <td>2.085208</td>\n",
              "      <td>3</td>\n",
              "      <td>0</td>\n",
              "      <td>First</td>\n",
              "    </tr>\n",
              "    <tr>\n",
              "      <th>313</th>\n",
              "      <td>0.025871</td>\n",
              "      <td>5.315965</td>\n",
              "      <td>20.991177</td>\n",
              "      <td>5.365212</td>\n",
              "      <td>4.604017</td>\n",
              "      <td>3</td>\n",
              "      <td>0</td>\n",
              "      <td>First</td>\n",
              "    </tr>\n",
              "  </tbody>\n",
              "</table>\n",
              "</div>"
            ],
            "text/plain": [
              "     CustAccountBalance  TransactionAmount (INR)          1          2  \\\n",
              "193            0.020904                14.980715  24.823642  15.029860   \n",
              "206            2.068192                20.747602  27.015675  20.900571   \n",
              "245           -0.044128                 6.958212  21.450835   7.007388   \n",
              "247            0.291274                 7.827278  21.386771   7.882254   \n",
              "313            0.025871                 5.315965  20.991177   5.365212   \n",
              "\n",
              "             3  Cluster  Segment K-Means Segment  \n",
              "193   5.075292        3                2   Third  \n",
              "206  10.980300        3                2   Third  \n",
              "245   2.972942        3                0   First  \n",
              "247   2.085208        3                0   First  \n",
              "313   4.604017        3                0   First  "
            ]
          },
          "execution_count": 88,
          "metadata": {},
          "output_type": "execute_result"
        }
      ],
      "source": [
        "data[\"Segment\"] = data[\"Segment K-Means\"].map({0:\"First\", 1:\"Second\", 2:\"Third\"})\n",
        "data.head()"
      ]
    },
    {
      "cell_type": "code",
      "execution_count": 89,
      "metadata": {},
      "outputs": [
        {
          "data": {
            "image/png": "[encoded data removed]",
            "text/plain": [
              "<Figure size 1200x800 with 1 Axes>"
            ]
          },
          "metadata": {},
          "output_type": "display_data"
        }
      ],
      "source": [
        "x_axis = data[\"TransactionAmount (INR)\"]\n",
        "y_axis = data[\"CustAccountBalance\"]\n",
        "plt.figure(figsize=(12, 8))\n",
        "sns.scatterplot(x=x_axis, y=y_axis, hue=data[\"Segment\"], palette=[\"g\", \"r\", \"b\"])\n",
        "plt.xlabel(\"Transaction Amount (INR)\")\n",
        "plt.ylabel(\"Customer Account Balance\")\n",
        "plt.title(\"Clusters by K-Means Clustering\")\n",
        "plt.show()"
      ]
    },
    {
      "attachments": {},
      "cell_type": "markdown",
      "metadata": {},
      "source": [
        "### Rendimiento de K-Means Clustering de libreria"
      ]
    },
    {
      "cell_type": "code",
      "execution_count": 90,
      "metadata": {},
      "outputs": [
        {
          "name": "stdout",
          "output_type": "stream",
          "text": [
            "Inertia: 1729.6468877838433\n",
            "Davies-Bouldin Index: 0.3990255011942017\n",
            "Calinski-Harabasz Index: 396.8314711114971\n"
          ]
        }
      ],
      "source": [
        "from sklearn.metrics import davies_bouldin_score, calinski_harabasz_score\n",
        "\n",
        "final_data = data.drop([\"Segment\", \"Segment K-Means\"], axis=1)\n",
        "\n",
        "# calculate metrics\n",
        "inertia = kmeans.inertia_\n",
        "db = davies_bouldin_score(final_data, kmeans.labels_)\n",
        "ch = calinski_harabasz_score(final_data, kmeans.labels_)\n",
        "\n",
        "print(f\"Inertia: {inertia}\\nDavies-Bouldin Index: {db}\\nCalinski-Harabasz Index: {ch}\")"
      ]
    }
  ],
  "metadata": {
    "colab": {
      "authorship_tag": "ABX9TyMBfF98eKvH6iMZAQE9Y3ab",
      "include_colab_link": true,
      "provenance": []
    },
    "kernelspec": {
      "display_name": "Python 3",
      "name": "python3"
    },
    "language_info": {
      "codemirror_mode": {
        "name": "ipython",
        "version": 3
      },
      "file_extension": ".py",
      "mimetype": "text/x-python",
      "name": "python",
      "nbconvert_exporter": "python",
      "pygments_lexer": "ipython3",
      "version": "3.11.1"
    }
  },
  "nbformat": 4,
  "nbformat_minor": 0
}
