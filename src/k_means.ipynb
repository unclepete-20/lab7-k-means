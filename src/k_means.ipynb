{
  "cells": [
    {
      "cell_type": "markdown",
      "metadata": {
        "colab_type": "text",
        "id": "view-in-github"
      },
      "source": [
        "<a href=\"https://colab.research.google.com/github/unclepete-20/lab7-k-means/blob/main/K_Means.ipynb\" target=\"_parent\"><img src=\"https://colab.research.google.com/assets/colab-badge.svg\" alt=\"Open In Colab\"/></a>"
      ]
    },
    {
      "cell_type": "markdown",
      "metadata": {
        "id": "U0XJNYmkqUxX"
      },
      "source": [
        "# Laboratorio #7 (K-Means)\n",
        "\n",
        "## Integrantes:\n",
        "\n",
        "\n",
        "*   Pedro Pablo Arriola Jimenez (20188)\n",
        "*   Oscar Fernando Lopez Barrios (20679)\n",
        "*   Santiago Taracena Puga (20017)\n",
        "*   YongBum Park (20117)\n",
        "\n",
        "\n",
        "\n",
        "\n",
        "\n",
        "\n"
      ]
    },
    {
      "cell_type": "markdown",
      "metadata": {
        "id": "4Otg84heq5e-"
      },
      "source": [
        "# Introducción a K-Means Clustering para Análisis de Transacciones Bancarias 💳💰\n",
        "\n",
        "El análisis de transacciones bancarias es una tarea importante para detectar fraudes, comportamientos inusuales y patrones de gasto de los clientes. Una forma de analizar estos datos es mediante el uso de técnicas de agrupamiento, como el algoritmo de K-Means.\n",
        "\n",
        "El algoritmo de K-Means es una técnica de aprendizaje no supervisado que permite agrupar datos en clusters o grupos, basado en su similitud. En el caso del análisis de transacciones bancarias, se pueden agrupar los datos según el comportamiento de los clientes, como sus patrones de gasto, lugares frecuentes de uso de tarjeta, entre otros.\n",
        "\n",
        "La implementación de K-Means en Python es relativamente sencilla gracias a la disponibilidad de diversas librerías como scikit-learn y pandas. A través del uso de esta técnica, se puede obtener una mejor comprensión de los patrones y comportamientos de los clientes, lo que puede ser valioso para la toma de decisiones en el ámbito bancario.\n",
        "\n",
        "En esta investigación, se explorará el uso de K-Means Clustering para el análisis de transacciones bancarias, incluyendo su implementación en Python y la interpretación de los resultados obtenidos.\n"
      ]
    },
    {
      "attachments": {},
      "cell_type": "markdown",
      "metadata": {
        "id": "rx_Ug3BErIrG"
      },
      "source": [
        "## Task 1 - Limpieza de datos y Análisis Exploratorio"
      ]
    },
    {
      "attachments": {},
      "cell_type": "markdown",
      "metadata": {},
      "source": [
        "La presente parte del task 1, como se menciona, consiste en realizar una limpieza de datos y el análisis exploratorio de los mismos. A continuación se presenta el procedimiento de escalamiento, codificación, y finalmente posterior análisis exploratorio de los datos presentados con el objetivo de la realización del laboratorio."
      ]
    },
    {
      "cell_type": "code",
      "execution_count": 2,
      "metadata": {
        "colab": {
          "base_uri": "https://localhost:8080/",
          "height": 505
        },
        "id": "OkPFsT3ipcGd",
        "outputId": "7383c3d9-d87e-45eb-a325-b3271860f3b5"
      },
      "outputs": [],
      "source": [
        "# Librerías necesarias para la limpieza de datos y análisis exploratorio.\n",
        "import pandas as pd\n",
        "import numpy as np\n",
        "import matplotlib.pyplot as plt\n",
        "import seaborn as sns"
      ]
    },
    {
      "cell_type": "code",
      "execution_count": 3,
      "metadata": {},
      "outputs": [
        {
          "data": {
            "text/html": [
              "<div>\n",
              "<style scoped>\n",
              "    .dataframe tbody tr th:only-of-type {\n",
              "        vertical-align: middle;\n",
              "    }\n",
              "\n",
              "    .dataframe tbody tr th {\n",
              "        vertical-align: top;\n",
              "    }\n",
              "\n",
              "    .dataframe thead th {\n",
              "        text-align: right;\n",
              "    }\n",
              "</style>\n",
              "<table border=\"1\" class=\"dataframe\">\n",
              "  <thead>\n",
              "    <tr style=\"text-align: right;\">\n",
              "      <th></th>\n",
              "      <th>TransactionID</th>\n",
              "      <th>CustomerID</th>\n",
              "      <th>CustomerDOB</th>\n",
              "      <th>CustGender</th>\n",
              "      <th>CustLocation</th>\n",
              "      <th>CustAccountBalance</th>\n",
              "      <th>TransactionDate</th>\n",
              "      <th>TransactionTime</th>\n",
              "      <th>TransactionAmount (INR)</th>\n",
              "    </tr>\n",
              "  </thead>\n",
              "  <tbody>\n",
              "    <tr>\n",
              "      <th>0</th>\n",
              "      <td>T1</td>\n",
              "      <td>C5841053</td>\n",
              "      <td>10/1/94</td>\n",
              "      <td>F</td>\n",
              "      <td>JAMSHEDPUR</td>\n",
              "      <td>17819.05</td>\n",
              "      <td>2/8/16</td>\n",
              "      <td>143207</td>\n",
              "      <td>25.0</td>\n",
              "    </tr>\n",
              "    <tr>\n",
              "      <th>1</th>\n",
              "      <td>T2</td>\n",
              "      <td>C2142763</td>\n",
              "      <td>4/4/57</td>\n",
              "      <td>M</td>\n",
              "      <td>JHAJJAR</td>\n",
              "      <td>2270.69</td>\n",
              "      <td>2/8/16</td>\n",
              "      <td>141858</td>\n",
              "      <td>27999.0</td>\n",
              "    </tr>\n",
              "    <tr>\n",
              "      <th>2</th>\n",
              "      <td>T3</td>\n",
              "      <td>C4417068</td>\n",
              "      <td>26/11/96</td>\n",
              "      <td>F</td>\n",
              "      <td>MUMBAI</td>\n",
              "      <td>17874.44</td>\n",
              "      <td>2/8/16</td>\n",
              "      <td>142712</td>\n",
              "      <td>459.0</td>\n",
              "    </tr>\n",
              "    <tr>\n",
              "      <th>3</th>\n",
              "      <td>T4</td>\n",
              "      <td>C5342380</td>\n",
              "      <td>14/9/73</td>\n",
              "      <td>F</td>\n",
              "      <td>MUMBAI</td>\n",
              "      <td>866503.21</td>\n",
              "      <td>2/8/16</td>\n",
              "      <td>142714</td>\n",
              "      <td>2060.0</td>\n",
              "    </tr>\n",
              "    <tr>\n",
              "      <th>4</th>\n",
              "      <td>T5</td>\n",
              "      <td>C9031234</td>\n",
              "      <td>24/3/88</td>\n",
              "      <td>F</td>\n",
              "      <td>NAVI MUMBAI</td>\n",
              "      <td>6714.43</td>\n",
              "      <td>2/8/16</td>\n",
              "      <td>181156</td>\n",
              "      <td>1762.5</td>\n",
              "    </tr>\n",
              "  </tbody>\n",
              "</table>\n",
              "</div>"
            ],
            "text/plain": [
              "  TransactionID CustomerID CustomerDOB CustGender CustLocation  \\\n",
              "0            T1   C5841053     10/1/94          F   JAMSHEDPUR   \n",
              "1            T2   C2142763      4/4/57          M      JHAJJAR   \n",
              "2            T3   C4417068    26/11/96          F       MUMBAI   \n",
              "3            T4   C5342380     14/9/73          F       MUMBAI   \n",
              "4            T5   C9031234     24/3/88          F  NAVI MUMBAI   \n",
              "\n",
              "   CustAccountBalance TransactionDate  TransactionTime  \\\n",
              "0            17819.05          2/8/16           143207   \n",
              "1             2270.69          2/8/16           141858   \n",
              "2            17874.44          2/8/16           142712   \n",
              "3           866503.21          2/8/16           142714   \n",
              "4             6714.43          2/8/16           181156   \n",
              "\n",
              "   TransactionAmount (INR)  \n",
              "0                     25.0  \n",
              "1                  27999.0  \n",
              "2                    459.0  \n",
              "3                   2060.0  \n",
              "4                   1762.5  "
            ]
          },
          "execution_count": 3,
          "metadata": {},
          "output_type": "execute_result"
        }
      ],
      "source": [
        "# Se carga el dataset para comenzar a realizar limpieza y exploración.\n",
        "data = pd.read_csv(\"./data/bank_transactions.csv\")\n",
        "data.head()"
      ]
    },
    {
      "attachments": {},
      "cell_type": "markdown",
      "metadata": {
        "id": "pdmxK1IltmhI"
      },
      "source": [
        "La tabla muestra información sobre transacciones financieras. A continuación se describe el significado de cada columna:\n",
        "\n",
        "- TransactionID: un identificador único para cada transacción\n",
        "- CustomerID: un identificador único para cada cliente\n",
        "- CustomerDOB: la fecha de nacimiento del cliente\n",
        "- CustGender: el género del cliente\n",
        "- CustLocation: la ubicación geográfica del cliente\n",
        "- CustAccountBalance: el saldo de la cuenta del cliente\n",
        "- TransactionDate: la fecha de la transacción\n",
        "- TransactionTime: la hora de la transacción\n",
        "- TransactionAmount (INR): la cantidad de la transacción en rupias indias (INR).\n",
        "\n",
        "Con esta información, se procederá con la limpieza y codificación de los datos."
      ]
    },
    {
      "cell_type": "code",
      "execution_count": 4,
      "metadata": {
        "colab": {
          "base_uri": "https://localhost:8080/",
          "height": 424
        },
        "id": "kaMfc2dPt2qK",
        "outputId": "1177b5ca-1613-4bef-ad53-1b7a9d220c95"
      },
      "outputs": [
        {
          "data": {
            "text/html": [
              "<div>\n",
              "<style scoped>\n",
              "    .dataframe tbody tr th:only-of-type {\n",
              "        vertical-align: middle;\n",
              "    }\n",
              "\n",
              "    .dataframe tbody tr th {\n",
              "        vertical-align: top;\n",
              "    }\n",
              "\n",
              "    .dataframe thead th {\n",
              "        text-align: right;\n",
              "    }\n",
              "</style>\n",
              "<table border=\"1\" class=\"dataframe\">\n",
              "  <thead>\n",
              "    <tr style=\"text-align: right;\">\n",
              "      <th></th>\n",
              "      <th>CustGender</th>\n",
              "      <th>CustLocation</th>\n",
              "      <th>CustAccountBalance</th>\n",
              "      <th>TransactionTime</th>\n",
              "      <th>TransactionAmount (INR)</th>\n",
              "    </tr>\n",
              "  </thead>\n",
              "  <tbody>\n",
              "    <tr>\n",
              "      <th>0</th>\n",
              "      <td>F</td>\n",
              "      <td>JAMSHEDPUR</td>\n",
              "      <td>17819.05</td>\n",
              "      <td>143207</td>\n",
              "      <td>25.0</td>\n",
              "    </tr>\n",
              "    <tr>\n",
              "      <th>1</th>\n",
              "      <td>M</td>\n",
              "      <td>JHAJJAR</td>\n",
              "      <td>2270.69</td>\n",
              "      <td>141858</td>\n",
              "      <td>27999.0</td>\n",
              "    </tr>\n",
              "    <tr>\n",
              "      <th>2</th>\n",
              "      <td>F</td>\n",
              "      <td>MUMBAI</td>\n",
              "      <td>17874.44</td>\n",
              "      <td>142712</td>\n",
              "      <td>459.0</td>\n",
              "    </tr>\n",
              "    <tr>\n",
              "      <th>3</th>\n",
              "      <td>F</td>\n",
              "      <td>MUMBAI</td>\n",
              "      <td>866503.21</td>\n",
              "      <td>142714</td>\n",
              "      <td>2060.0</td>\n",
              "    </tr>\n",
              "    <tr>\n",
              "      <th>4</th>\n",
              "      <td>F</td>\n",
              "      <td>NAVI MUMBAI</td>\n",
              "      <td>6714.43</td>\n",
              "      <td>181156</td>\n",
              "      <td>1762.5</td>\n",
              "    </tr>\n",
              "  </tbody>\n",
              "</table>\n",
              "</div>"
            ],
            "text/plain": [
              "  CustGender CustLocation  CustAccountBalance  TransactionTime  \\\n",
              "0          F   JAMSHEDPUR            17819.05           143207   \n",
              "1          M      JHAJJAR             2270.69           141858   \n",
              "2          F       MUMBAI            17874.44           142712   \n",
              "3          F       MUMBAI           866503.21           142714   \n",
              "4          F  NAVI MUMBAI             6714.43           181156   \n",
              "\n",
              "   TransactionAmount (INR)  \n",
              "0                     25.0  \n",
              "1                  27999.0  \n",
              "2                    459.0  \n",
              "3                   2060.0  \n",
              "4                   1762.5  "
            ]
          },
          "execution_count": 4,
          "metadata": {},
          "output_type": "execute_result"
        }
      ],
      "source": [
        "# Se eliminan estas variables categóricas que no sirven ningún propósito.\n",
        "data = data.drop([\"TransactionID\", \"CustomerID\", \"CustomerDOB\", \"TransactionDate\"], axis=1)\n",
        "data.head()"
      ]
    },
    {
      "cell_type": "code",
      "execution_count": 5,
      "metadata": {
        "colab": {
          "base_uri": "https://localhost:8080/",
          "height": 424
        },
        "id": "EBAz4KhAwwRF",
        "outputId": "2b493a2a-7687-4c77-c65f-bb4dcc379d10"
      },
      "outputs": [
        {
          "data": {
            "text/html": [
              "<div>\n",
              "<style scoped>\n",
              "    .dataframe tbody tr th:only-of-type {\n",
              "        vertical-align: middle;\n",
              "    }\n",
              "\n",
              "    .dataframe tbody tr th {\n",
              "        vertical-align: top;\n",
              "    }\n",
              "\n",
              "    .dataframe thead th {\n",
              "        text-align: right;\n",
              "    }\n",
              "</style>\n",
              "<table border=\"1\" class=\"dataframe\">\n",
              "  <thead>\n",
              "    <tr style=\"text-align: right;\">\n",
              "      <th></th>\n",
              "      <th>CustGender</th>\n",
              "      <th>CustLocation</th>\n",
              "      <th>CustAccountBalance</th>\n",
              "      <th>TransactionTime</th>\n",
              "      <th>TransactionAmount (INR)</th>\n",
              "    </tr>\n",
              "  </thead>\n",
              "  <tbody>\n",
              "    <tr>\n",
              "      <th>0</th>\n",
              "      <td>0.0</td>\n",
              "      <td>JAMSHEDPUR</td>\n",
              "      <td>17819.05</td>\n",
              "      <td>143207</td>\n",
              "      <td>25.0</td>\n",
              "    </tr>\n",
              "    <tr>\n",
              "      <th>1</th>\n",
              "      <td>1.0</td>\n",
              "      <td>JHAJJAR</td>\n",
              "      <td>2270.69</td>\n",
              "      <td>141858</td>\n",
              "      <td>27999.0</td>\n",
              "    </tr>\n",
              "    <tr>\n",
              "      <th>2</th>\n",
              "      <td>0.0</td>\n",
              "      <td>MUMBAI</td>\n",
              "      <td>17874.44</td>\n",
              "      <td>142712</td>\n",
              "      <td>459.0</td>\n",
              "    </tr>\n",
              "    <tr>\n",
              "      <th>3</th>\n",
              "      <td>0.0</td>\n",
              "      <td>MUMBAI</td>\n",
              "      <td>866503.21</td>\n",
              "      <td>142714</td>\n",
              "      <td>2060.0</td>\n",
              "    </tr>\n",
              "    <tr>\n",
              "      <th>4</th>\n",
              "      <td>0.0</td>\n",
              "      <td>NAVI MUMBAI</td>\n",
              "      <td>6714.43</td>\n",
              "      <td>181156</td>\n",
              "      <td>1762.5</td>\n",
              "    </tr>\n",
              "  </tbody>\n",
              "</table>\n",
              "</div>"
            ],
            "text/plain": [
              "   CustGender CustLocation  CustAccountBalance  TransactionTime  \\\n",
              "0         0.0   JAMSHEDPUR            17819.05           143207   \n",
              "1         1.0      JHAJJAR             2270.69           141858   \n",
              "2         0.0       MUMBAI            17874.44           142712   \n",
              "3         0.0       MUMBAI           866503.21           142714   \n",
              "4         0.0  NAVI MUMBAI             6714.43           181156   \n",
              "\n",
              "   TransactionAmount (INR)  \n",
              "0                     25.0  \n",
              "1                  27999.0  \n",
              "2                    459.0  \n",
              "3                   2060.0  \n",
              "4                   1762.5  "
            ]
          },
          "execution_count": 5,
          "metadata": {},
          "output_type": "execute_result"
        }
      ],
      "source": [
        "# Se hace un mapeo para codificar el género del cliente.\n",
        "gender_map = { \"M\": 1, \"F\": 0 }\n",
        "data[\"CustGender\"] = data[\"CustGender\"].replace(gender_map)\n",
        "\n",
        "# Convertimos la columna a valores numéricos.\n",
        "data[\"CustGender\"] = pd.to_numeric(data[\"CustGender\"], errors=\"coerce\")\n",
        "data.head()"
      ]
    },
    {
      "cell_type": "code",
      "execution_count": 6,
      "metadata": {},
      "outputs": [
        {
          "data": {
            "text/plain": [
              "CustGender                 0.001050\n",
              "CustLocation               0.000144\n",
              "CustAccountBalance         0.002259\n",
              "TransactionTime            0.000000\n",
              "TransactionAmount (INR)    0.000000\n",
              "dtype: float64"
            ]
          },
          "execution_count": 6,
          "metadata": {},
          "output_type": "execute_result"
        }
      ],
      "source": [
        "# Verificación de la cantidad de valores nulos.\n",
        "null_data = data.isnull().sum()\n",
        "null_data / len(data)"
      ]
    },
    {
      "cell_type": "code",
      "execution_count": 7,
      "metadata": {
        "colab": {
          "base_uri": "https://localhost:8080/",
          "height": 424
        },
        "id": "-95AFGOGwsSC",
        "outputId": "669c323b-ae62-4413-e12f-89b3f350bbd9"
      },
      "outputs": [
        {
          "data": {
            "text/html": [
              "<div>\n",
              "<style scoped>\n",
              "    .dataframe tbody tr th:only-of-type {\n",
              "        vertical-align: middle;\n",
              "    }\n",
              "\n",
              "    .dataframe tbody tr th {\n",
              "        vertical-align: top;\n",
              "    }\n",
              "\n",
              "    .dataframe thead th {\n",
              "        text-align: right;\n",
              "    }\n",
              "</style>\n",
              "<table border=\"1\" class=\"dataframe\">\n",
              "  <thead>\n",
              "    <tr style=\"text-align: right;\">\n",
              "      <th></th>\n",
              "      <th>CustGender</th>\n",
              "      <th>CustLocation</th>\n",
              "      <th>CustAccountBalance</th>\n",
              "      <th>TransactionTime</th>\n",
              "      <th>TransactionAmount (INR)</th>\n",
              "    </tr>\n",
              "  </thead>\n",
              "  <tbody>\n",
              "    <tr>\n",
              "      <th>0</th>\n",
              "      <td>0.0</td>\n",
              "      <td>JAMSHEDPUR</td>\n",
              "      <td>17819.05</td>\n",
              "      <td>143207</td>\n",
              "      <td>25.0</td>\n",
              "    </tr>\n",
              "    <tr>\n",
              "      <th>1</th>\n",
              "      <td>1.0</td>\n",
              "      <td>JHAJJAR</td>\n",
              "      <td>2270.69</td>\n",
              "      <td>141858</td>\n",
              "      <td>27999.0</td>\n",
              "    </tr>\n",
              "    <tr>\n",
              "      <th>2</th>\n",
              "      <td>0.0</td>\n",
              "      <td>MUMBAI</td>\n",
              "      <td>17874.44</td>\n",
              "      <td>142712</td>\n",
              "      <td>459.0</td>\n",
              "    </tr>\n",
              "    <tr>\n",
              "      <th>3</th>\n",
              "      <td>0.0</td>\n",
              "      <td>MUMBAI</td>\n",
              "      <td>866503.21</td>\n",
              "      <td>142714</td>\n",
              "      <td>2060.0</td>\n",
              "    </tr>\n",
              "    <tr>\n",
              "      <th>4</th>\n",
              "      <td>0.0</td>\n",
              "      <td>NAVI MUMBAI</td>\n",
              "      <td>6714.43</td>\n",
              "      <td>181156</td>\n",
              "      <td>1762.5</td>\n",
              "    </tr>\n",
              "  </tbody>\n",
              "</table>\n",
              "</div>"
            ],
            "text/plain": [
              "   CustGender CustLocation  CustAccountBalance  TransactionTime  \\\n",
              "0         0.0   JAMSHEDPUR            17819.05           143207   \n",
              "1         1.0      JHAJJAR             2270.69           141858   \n",
              "2         0.0       MUMBAI            17874.44           142712   \n",
              "3         0.0       MUMBAI           866503.21           142714   \n",
              "4         0.0  NAVI MUMBAI             6714.43           181156   \n",
              "\n",
              "   TransactionAmount (INR)  \n",
              "0                     25.0  \n",
              "1                  27999.0  \n",
              "2                    459.0  \n",
              "3                   2060.0  \n",
              "4                   1762.5  "
            ]
          },
          "execution_count": 7,
          "metadata": {},
          "output_type": "execute_result"
        }
      ],
      "source": [
        "# Se eliminan datos faltantes o nulos.\n",
        "data = data.dropna()\n",
        "data.head()"
      ]
    },
    {
      "cell_type": "code",
      "execution_count": 8,
      "metadata": {
        "colab": {
          "base_uri": "https://localhost:8080/",
          "height": 551
        },
        "id": "liyhSBq4zjsZ",
        "outputId": "d21c674a-ed0f-411b-ba2b-912c48fd11eb"
      },
      "outputs": [
        {
          "data": {
            "text/html": [
              "<div>\n",
              "<style scoped>\n",
              "    .dataframe tbody tr th:only-of-type {\n",
              "        vertical-align: middle;\n",
              "    }\n",
              "\n",
              "    .dataframe tbody tr th {\n",
              "        vertical-align: top;\n",
              "    }\n",
              "\n",
              "    .dataframe thead th {\n",
              "        text-align: right;\n",
              "    }\n",
              "</style>\n",
              "<table border=\"1\" class=\"dataframe\">\n",
              "  <thead>\n",
              "    <tr style=\"text-align: right;\">\n",
              "      <th></th>\n",
              "      <th>CustGender</th>\n",
              "      <th>CustLocation</th>\n",
              "      <th>CustAccountBalance</th>\n",
              "      <th>TransactionTime</th>\n",
              "      <th>TransactionAmount (INR)</th>\n",
              "    </tr>\n",
              "  </thead>\n",
              "  <tbody>\n",
              "    <tr>\n",
              "      <th>0</th>\n",
              "      <td>0.0</td>\n",
              "      <td>JAMSHEDPUR</td>\n",
              "      <td>-0.115327</td>\n",
              "      <td>143207</td>\n",
              "      <td>-0.235558</td>\n",
              "    </tr>\n",
              "    <tr>\n",
              "      <th>1</th>\n",
              "      <td>1.0</td>\n",
              "      <td>JHAJJAR</td>\n",
              "      <td>-0.133684</td>\n",
              "      <td>141858</td>\n",
              "      <td>4.022106</td>\n",
              "    </tr>\n",
              "    <tr>\n",
              "      <th>2</th>\n",
              "      <td>0.0</td>\n",
              "      <td>MUMBAI</td>\n",
              "      <td>-0.115261</td>\n",
              "      <td>142712</td>\n",
              "      <td>-0.169503</td>\n",
              "    </tr>\n",
              "    <tr>\n",
              "      <th>3</th>\n",
              "      <td>0.0</td>\n",
              "      <td>MUMBAI</td>\n",
              "      <td>0.886688</td>\n",
              "      <td>142714</td>\n",
              "      <td>0.074170</td>\n",
              "    </tr>\n",
              "    <tr>\n",
              "      <th>4</th>\n",
              "      <td>0.0</td>\n",
              "      <td>NAVI MUMBAI</td>\n",
              "      <td>-0.128438</td>\n",
              "      <td>181156</td>\n",
              "      <td>0.028891</td>\n",
              "    </tr>\n",
              "  </tbody>\n",
              "</table>\n",
              "</div>"
            ],
            "text/plain": [
              "   CustGender CustLocation  CustAccountBalance  TransactionTime  \\\n",
              "0         0.0   JAMSHEDPUR           -0.115327           143207   \n",
              "1         1.0      JHAJJAR           -0.133684           141858   \n",
              "2         0.0       MUMBAI           -0.115261           142712   \n",
              "3         0.0       MUMBAI            0.886688           142714   \n",
              "4         0.0  NAVI MUMBAI           -0.128438           181156   \n",
              "\n",
              "   TransactionAmount (INR)  \n",
              "0                -0.235558  \n",
              "1                 4.022106  \n",
              "2                -0.169503  \n",
              "3                 0.074170  \n",
              "4                 0.028891  "
            ]
          },
          "execution_count": 8,
          "metadata": {},
          "output_type": "execute_result"
        }
      ],
      "source": [
        "# Escalamiento de la data con StandardScaler.\n",
        "from sklearn.preprocessing import StandardScaler\n",
        "\n",
        "# Proceso de escalamiento de la data.\n",
        "scaler = StandardScaler()\n",
        "data[[\"CustAccountBalance\", \"TransactionAmount (INR)\"]] = scaler.fit_transform(data[[\"CustAccountBalance\", \"TransactionAmount (INR)\"]])\n",
        "data.head()"
      ]
    },
    {
      "cell_type": "code",
      "execution_count": 9,
      "metadata": {
        "colab": {
          "base_uri": "https://localhost:8080/",
          "height": 551
        },
        "id": "RWXmKwL4z14x",
        "outputId": "9ba104c8-fbb7-445f-cf5a-bf3a3ea5a8b5"
      },
      "outputs": [
        {
          "data": {
            "text/html": [
              "<div>\n",
              "<style scoped>\n",
              "    .dataframe tbody tr th:only-of-type {\n",
              "        vertical-align: middle;\n",
              "    }\n",
              "\n",
              "    .dataframe tbody tr th {\n",
              "        vertical-align: top;\n",
              "    }\n",
              "\n",
              "    .dataframe thead th {\n",
              "        text-align: right;\n",
              "    }\n",
              "</style>\n",
              "<table border=\"1\" class=\"dataframe\">\n",
              "  <thead>\n",
              "    <tr style=\"text-align: right;\">\n",
              "      <th></th>\n",
              "      <th>CustGender</th>\n",
              "      <th>CustLocation</th>\n",
              "      <th>CustAccountBalance</th>\n",
              "      <th>TransactionTime</th>\n",
              "      <th>TransactionAmount (INR)</th>\n",
              "    </tr>\n",
              "  </thead>\n",
              "  <tbody>\n",
              "    <tr>\n",
              "      <th>0</th>\n",
              "      <td>0.0</td>\n",
              "      <td>JAMSHEDPUR</td>\n",
              "      <td>-0.115327</td>\n",
              "      <td>143207</td>\n",
              "      <td>-0.235558</td>\n",
              "    </tr>\n",
              "    <tr>\n",
              "      <th>1</th>\n",
              "      <td>1.0</td>\n",
              "      <td>JHAJJAR</td>\n",
              "      <td>-0.133684</td>\n",
              "      <td>141858</td>\n",
              "      <td>4.022106</td>\n",
              "    </tr>\n",
              "    <tr>\n",
              "      <th>2</th>\n",
              "      <td>0.0</td>\n",
              "      <td>MUMBAI</td>\n",
              "      <td>-0.115261</td>\n",
              "      <td>142712</td>\n",
              "      <td>-0.169503</td>\n",
              "    </tr>\n",
              "    <tr>\n",
              "      <th>3</th>\n",
              "      <td>0.0</td>\n",
              "      <td>MUMBAI</td>\n",
              "      <td>0.886688</td>\n",
              "      <td>142714</td>\n",
              "      <td>0.074170</td>\n",
              "    </tr>\n",
              "    <tr>\n",
              "      <th>4</th>\n",
              "      <td>0.0</td>\n",
              "      <td>NAVI MUMBAI</td>\n",
              "      <td>-0.128438</td>\n",
              "      <td>181156</td>\n",
              "      <td>0.028891</td>\n",
              "    </tr>\n",
              "  </tbody>\n",
              "</table>\n",
              "</div>"
            ],
            "text/plain": [
              "   CustGender CustLocation  CustAccountBalance  TransactionTime  \\\n",
              "0         0.0   JAMSHEDPUR           -0.115327           143207   \n",
              "1         1.0      JHAJJAR           -0.133684           141858   \n",
              "2         0.0       MUMBAI           -0.115261           142712   \n",
              "3         0.0       MUMBAI            0.886688           142714   \n",
              "4         0.0  NAVI MUMBAI           -0.128438           181156   \n",
              "\n",
              "   TransactionAmount (INR)  \n",
              "0                -0.235558  \n",
              "1                 4.022106  \n",
              "2                -0.169503  \n",
              "3                 0.074170  \n",
              "4                 0.028891  "
            ]
          },
          "execution_count": 9,
          "metadata": {},
          "output_type": "execute_result"
        }
      ],
      "source": [
        "# Balanceo de la data utilizando la mediana de las columnas respectivas.\n",
        "median_balance = data[[\"CustAccountBalance\"]].median()\n",
        "fill_median = data[[\"CustAccountBalance\"]].fillna(median_balance)\n",
        "data.loc[:, \"CustAccountBalance\"] = fill_median\n",
        "data.head()"
      ]
    },
    {
      "cell_type": "code",
      "execution_count": 10,
      "metadata": {
        "colab": {
          "base_uri": "https://localhost:8080/",
          "height": 551
        },
        "id": "a2nSrmqJ2dgU",
        "outputId": "e16aa8b6-b8e0-4da9-bcf0-32d3604c3fb5"
      },
      "outputs": [
        {
          "data": {
            "text/html": [
              "<div>\n",
              "<style scoped>\n",
              "    .dataframe tbody tr th:only-of-type {\n",
              "        vertical-align: middle;\n",
              "    }\n",
              "\n",
              "    .dataframe tbody tr th {\n",
              "        vertical-align: top;\n",
              "    }\n",
              "\n",
              "    .dataframe thead th {\n",
              "        text-align: right;\n",
              "    }\n",
              "</style>\n",
              "<table border=\"1\" class=\"dataframe\">\n",
              "  <thead>\n",
              "    <tr style=\"text-align: right;\">\n",
              "      <th></th>\n",
              "      <th>CustGender</th>\n",
              "      <th>CustLocation</th>\n",
              "      <th>CustAccountBalance</th>\n",
              "      <th>TransactionTime</th>\n",
              "      <th>TransactionAmount (INR)</th>\n",
              "    </tr>\n",
              "  </thead>\n",
              "  <tbody>\n",
              "    <tr>\n",
              "      <th>0</th>\n",
              "      <td>0.0</td>\n",
              "      <td>3567</td>\n",
              "      <td>-0.115327</td>\n",
              "      <td>143207</td>\n",
              "      <td>-0.235558</td>\n",
              "    </tr>\n",
              "    <tr>\n",
              "      <th>1</th>\n",
              "      <td>1.0</td>\n",
              "      <td>3629</td>\n",
              "      <td>-0.133684</td>\n",
              "      <td>141858</td>\n",
              "      <td>4.022106</td>\n",
              "    </tr>\n",
              "    <tr>\n",
              "      <th>2</th>\n",
              "      <td>0.0</td>\n",
              "      <td>5242</td>\n",
              "      <td>-0.115261</td>\n",
              "      <td>142712</td>\n",
              "      <td>-0.169503</td>\n",
              "    </tr>\n",
              "    <tr>\n",
              "      <th>3</th>\n",
              "      <td>0.0</td>\n",
              "      <td>5242</td>\n",
              "      <td>0.886688</td>\n",
              "      <td>142714</td>\n",
              "      <td>0.074170</td>\n",
              "    </tr>\n",
              "    <tr>\n",
              "      <th>4</th>\n",
              "      <td>0.0</td>\n",
              "      <td>5631</td>\n",
              "      <td>-0.128438</td>\n",
              "      <td>181156</td>\n",
              "      <td>0.028891</td>\n",
              "    </tr>\n",
              "  </tbody>\n",
              "</table>\n",
              "</div>"
            ],
            "text/plain": [
              "   CustGender  CustLocation  CustAccountBalance  TransactionTime  \\\n",
              "0         0.0          3567           -0.115327           143207   \n",
              "1         1.0          3629           -0.133684           141858   \n",
              "2         0.0          5242           -0.115261           142712   \n",
              "3         0.0          5242            0.886688           142714   \n",
              "4         0.0          5631           -0.128438           181156   \n",
              "\n",
              "   TransactionAmount (INR)  \n",
              "0                -0.235558  \n",
              "1                 4.022106  \n",
              "2                -0.169503  \n",
              "3                 0.074170  \n",
              "4                 0.028891  "
            ]
          },
          "execution_count": 10,
          "metadata": {},
          "output_type": "execute_result"
        }
      ],
      "source": [
        "# LabelEncoder importado para codificar la variable categórica.\n",
        "from sklearn.preprocessing import LabelEncoder\n",
        "\n",
        "# Codificación de la variable categórica.\n",
        "le = LabelEncoder()\n",
        "data.loc[:, \"CustLocation\"] = le.fit_transform(data[\"CustLocation\"])\n",
        "data.head()"
      ]
    },
    {
      "cell_type": "code",
      "execution_count": 11,
      "metadata": {},
      "outputs": [
        {
          "data": {
            "text/html": [
              "<div>\n",
              "<style scoped>\n",
              "    .dataframe tbody tr th:only-of-type {\n",
              "        vertical-align: middle;\n",
              "    }\n",
              "\n",
              "    .dataframe tbody tr th {\n",
              "        vertical-align: top;\n",
              "    }\n",
              "\n",
              "    .dataframe thead th {\n",
              "        text-align: right;\n",
              "    }\n",
              "</style>\n",
              "<table border=\"1\" class=\"dataframe\">\n",
              "  <thead>\n",
              "    <tr style=\"text-align: right;\">\n",
              "      <th></th>\n",
              "      <th>CustGender</th>\n",
              "      <th>CustLocation</th>\n",
              "      <th>CustAccountBalance</th>\n",
              "      <th>TransactionTime</th>\n",
              "      <th>TransactionAmount (INR)</th>\n",
              "    </tr>\n",
              "  </thead>\n",
              "  <tbody>\n",
              "    <tr>\n",
              "      <th>count</th>\n",
              "      <td>1.044946e+06</td>\n",
              "      <td>1.044946e+06</td>\n",
              "      <td>1.044946e+06</td>\n",
              "      <td>1.044946e+06</td>\n",
              "      <td>1.044946e+06</td>\n",
              "    </tr>\n",
              "    <tr>\n",
              "      <th>mean</th>\n",
              "      <td>7.308559e-01</td>\n",
              "      <td>4.104684e+03</td>\n",
              "      <td>-3.016393e-17</td>\n",
              "      <td>1.571001e+05</td>\n",
              "      <td>1.332217e-16</td>\n",
              "    </tr>\n",
              "    <tr>\n",
              "      <th>std</th>\n",
              "      <td>4.435152e-01</td>\n",
              "      <td>2.377073e+03</td>\n",
              "      <td>1.000000e+00</td>\n",
              "      <td>5.126609e+04</td>\n",
              "      <td>1.000000e+00</td>\n",
              "    </tr>\n",
              "    <tr>\n",
              "      <th>min</th>\n",
              "      <td>0.000000e+00</td>\n",
              "      <td>0.000000e+00</td>\n",
              "      <td>-1.363652e-01</td>\n",
              "      <td>0.000000e+00</td>\n",
              "      <td>-2.393632e-01</td>\n",
              "    </tr>\n",
              "    <tr>\n",
              "      <th>25%</th>\n",
              "      <td>0.000000e+00</td>\n",
              "      <td>2.062000e+03</td>\n",
              "      <td>-1.307740e-01</td>\n",
              "      <td>1.240330e+05</td>\n",
              "      <td>-2.148589e-01</td>\n",
              "    </tr>\n",
              "    <tr>\n",
              "      <th>50%</th>\n",
              "      <td>1.000000e+00</td>\n",
              "      <td>4.101000e+03</td>\n",
              "      <td>-1.165098e-01</td>\n",
              "      <td>1.642360e+05</td>\n",
              "      <td>-1.694239e-01</td>\n",
              "    </tr>\n",
              "    <tr>\n",
              "      <th>75%</th>\n",
              "      <td>1.000000e+00</td>\n",
              "      <td>5.766000e+03</td>\n",
              "      <td>-6.823476e-02</td>\n",
              "      <td>2.000160e+05</td>\n",
              "      <td>-5.672226e-02</td>\n",
              "    </tr>\n",
              "    <tr>\n",
              "      <th>max</th>\n",
              "      <td>1.000000e+00</td>\n",
              "      <td>9.325000e+03</td>\n",
              "      <td>1.356825e+02</td>\n",
              "      <td>2.359590e+05</td>\n",
              "      <td>2.371992e+02</td>\n",
              "    </tr>\n",
              "  </tbody>\n",
              "</table>\n",
              "</div>"
            ],
            "text/plain": [
              "         CustGender  CustLocation  CustAccountBalance  TransactionTime  \\\n",
              "count  1.044946e+06  1.044946e+06        1.044946e+06     1.044946e+06   \n",
              "mean   7.308559e-01  4.104684e+03       -3.016393e-17     1.571001e+05   \n",
              "std    4.435152e-01  2.377073e+03        1.000000e+00     5.126609e+04   \n",
              "min    0.000000e+00  0.000000e+00       -1.363652e-01     0.000000e+00   \n",
              "25%    0.000000e+00  2.062000e+03       -1.307740e-01     1.240330e+05   \n",
              "50%    1.000000e+00  4.101000e+03       -1.165098e-01     1.642360e+05   \n",
              "75%    1.000000e+00  5.766000e+03       -6.823476e-02     2.000160e+05   \n",
              "max    1.000000e+00  9.325000e+03        1.356825e+02     2.359590e+05   \n",
              "\n",
              "       TransactionAmount (INR)  \n",
              "count             1.044946e+06  \n",
              "mean              1.332217e-16  \n",
              "std               1.000000e+00  \n",
              "min              -2.393632e-01  \n",
              "25%              -2.148589e-01  \n",
              "50%              -1.694239e-01  \n",
              "75%              -5.672226e-02  \n",
              "max               2.371992e+02  "
            ]
          },
          "execution_count": 11,
          "metadata": {},
          "output_type": "execute_result"
        }
      ],
      "source": [
        "# Ahora se hace una breve descripción estadística de los datos.\n",
        "data.describe()"
      ]
    },
    {
      "cell_type": "code",
      "execution_count": 12,
      "metadata": {},
      "outputs": [
        {
          "name": "stdout",
          "output_type": "stream",
          "text": [
            "<class 'pandas.core.frame.DataFrame'>\n",
            "Int64Index: 1044946 entries, 0 to 1048566\n",
            "Data columns (total 5 columns):\n",
            " #   Column                   Non-Null Count    Dtype  \n",
            "---  ------                   --------------    -----  \n",
            " 0   CustGender               1044946 non-null  float64\n",
            " 1   CustLocation             1044946 non-null  int32  \n",
            " 2   CustAccountBalance       1044946 non-null  float64\n",
            " 3   TransactionTime          1044946 non-null  int64  \n",
            " 4   TransactionAmount (INR)  1044946 non-null  float64\n",
            "dtypes: float64(3), int32(1), int64(1)\n",
            "memory usage: 43.8 MB\n"
          ]
        }
      ],
      "source": [
        "# También se obtiene un poco sobre la informacion de los datos.\n",
        "data.info()"
      ]
    },
    {
      "cell_type": "code",
      "execution_count": 13,
      "metadata": {},
      "outputs": [
        {
          "data": {
            "text/plain": [
              "CustLocation\n",
              "0       11\n",
              "1        1\n",
              "2       21\n",
              "3        5\n",
              "4       11\n",
              "        ..\n",
              "9321     1\n",
              "9322     6\n",
              "9323     4\n",
              "9324     9\n",
              "9325     1\n",
              "Length: 9326, dtype: int64"
            ]
          },
          "execution_count": 13,
          "metadata": {},
          "output_type": "execute_result"
        }
      ],
      "source": [
        "# Se explora la cantidad de ubicaciones para tener una noción sobre la variable.\n",
        "data.groupby(\"CustLocation\").size()"
      ]
    },
    {
      "attachments": {},
      "cell_type": "markdown",
      "metadata": {},
      "source": [
        "## Task 1.1 - K-Mean Clustering"
      ]
    },
    {
      "attachments": {},
      "cell_type": "markdown",
      "metadata": {},
      "source": [
        "El presente task, posterior a la limpieza y análisis exploratorio de los datos proporcionados, consiste en la implementación del modelo de K-Means por parte de nuestro equipo de trabajo. A continuación se encuentran todas las funciones necesarias para la implementación del modelo por cuenta propia."
      ]
    },
    {
      "cell_type": "code",
      "execution_count": 14,
      "metadata": {},
      "outputs": [
        {
          "data": {
            "image/png": "[encoded data removed]",
            "text/plain": [
              "<Figure size 432x288 with 1 Axes>"
            ]
          },
          "metadata": {
            "needs_background": "light"
          },
          "output_type": "display_data"
        }
      ],
      "source": [
        "# Comenzamos seleccionando las variables que nos interesan.\n",
        "X = data[[\"CustAccountBalance\", \"TransactionAmount (INR)\"]]\n",
        "\n",
        "# Se grafican los puntos del dataset.\n",
        "plt.scatter(X[\"CustAccountBalance\"], X[\"TransactionAmount (INR)\"], c=\"red\")\n",
        "plt.xlabel(\"CustAccountBalance\")\n",
        "plt.ylabel(\"TransactionAmount (INR)\")\n",
        "plt.show()"
      ]
    },
    {
      "cell_type": "code",
      "execution_count": 15,
      "metadata": {},
      "outputs": [
        {
          "data": {
            "image/png": "[encoded data removed]",
            "text/plain": [
              "<Figure size 432x288 with 1 Axes>"
            ]
          },
          "metadata": {
            "needs_background": "light"
          },
          "output_type": "display_data"
        }
      ],
      "source": [
        "# Step 1 and 2 - Choose the number of clusters (k) and select random centroid for each cluster\n",
        "\n",
        "#number of clusters\n",
        "K=3\n",
        "\n",
        "# Select random observation as centroids\n",
        "Centroids = (X.sample(n=K))\n",
        "plt.scatter(X[\"CustAccountBalance\"], X[\"TransactionAmount (INR)\"], c=\"red\")\n",
        "plt.scatter(Centroids[\"CustAccountBalance\"], Centroids[\"TransactionAmount (INR)\"], c=\"black\")\n",
        "plt.xlabel(\"CustAccountBalance\")\n",
        "plt.ylabel(\"TransactionAmount (INR)\")\n",
        "plt.show()"
      ]
    },
    {
      "cell_type": "code",
      "execution_count": 16,
      "metadata": {},
      "outputs": [
        {
          "name": "stderr",
          "output_type": "stream",
          "text": [
            "C:\\Users\\Santiago\\AppData\\Local\\Temp\\ipykernel_17968\\669635270.py:18: SettingWithCopyWarning: \n",
            "A value is trying to be set on a copy of a slice from a DataFrame.\n",
            "Try using .loc[row_indexer,col_indexer] = value instead\n",
            "\n",
            "See the caveats in the documentation: https://pandas.pydata.org/pandas-docs/stable/user_guide/indexing.html#returning-a-view-versus-a-copy\n",
            "  X[i]=ED\n"
          ]
        },
        {
          "name": "stdout",
          "output_type": "stream",
          "text": [
            "0.8634253249233992\n",
            "1.2170316153664582\n",
            "1.5963454647492732\n",
            "1.913020265130835\n",
            "1.941413865584079\n",
            "1.9282621148107801\n",
            "2.1072506183831035\n",
            "2.121420137088267\n",
            "1.7300376758121323\n",
            "1.6711171351226544\n",
            "1.0827947912599318\n",
            "0.6932344105984685\n",
            "1.879530053561894\n",
            "1.6113457691324813\n",
            "1.2784425169419935\n",
            "1.0352467109811812\n"
          ]
        }
      ],
      "source": [
        "# Step 3 - Assign all the points to the closest cluster centroid\n",
        "# Step 4 - Recompute centroids of newly formed clusters\n",
        "# Step 5 - Repeat step 3 and 4\n",
        "\n",
        "diff = 1\n",
        "j = 0\n",
        "\n",
        "while (diff != 0):\n",
        "    XD = X\n",
        "    i = 1\n",
        "    for index1,row_c in Centroids.iterrows():\n",
        "        ED = []\n",
        "        for index2, row_d in XD.iterrows():\n",
        "            d1 = (row_c[\"CustAccountBalance\"] - row_d[\"CustAccountBalance\"]) ** 2\n",
        "            d2 = (row_c[\"TransactionAmount (INR)\"] - row_d[\"TransactionAmount (INR)\"]) ** 2\n",
        "            d = np.sqrt(d1 + d2)\n",
        "            ED.append(d)\n",
        "        X[i] = ED\n",
        "        i += 1\n",
        "\n",
        "    C = []\n",
        "    for index, row in X.iterrows():\n",
        "        min_dist = row[1]\n",
        "        pos = 1\n",
        "        for i in range(K):\n",
        "            if (row[i + 1] < min_dist):\n",
        "                min_dist = row[i + 1]\n",
        "                pos = i + 1\n",
        "        C.append(pos)\n",
        "    X[\"Cluster\"] = C\n",
        "    Centroids_new = X.groupby([\"Cluster\"]).mean()[[\"TransactionAmount (INR)\", \"CustAccountBalance\"]]\n",
        "    if (j == 0):\n",
        "        diff = 1\n",
        "        j += 1\n",
        "    else:\n",
        "        diff = (Centroids_new[\"TransactionAmount (INR)\"] - Centroids[\"TransactionAmount (INR)\"]).sum() + (Centroids_new[\"CustAccountBalance\"] - Centroids[\"CustAccountBalance\"]).sum()\n",
        "        print(diff.sum())\n",
        "    Centroids = X.groupby([\"Cluster\"]).mean()[[\"TransactionAmount (INR)\",\"CustAccountBalance\"]]"
      ]
    },
    {
      "cell_type": "code",
      "execution_count": null,
      "metadata": {},
      "outputs": [],
      "source": [
        "color=[\"yellow\",\"green\",\"blue\"]\n",
        "for k in range(K):\n",
        "    data=X[X[\"Cluster\"] == k + 1]\n",
        "    plt.scatter(data[\"CustAccountBalance\"],data[\"TransactionAmount (INR)\"], c=color[k])\n",
        "plt.scatter(Centroids[\"CustAccountBalance\"],Centroids[\"TransactionAmount (INR)\"], c=\"black\")\n",
        "plt.xlabel(\"Account Balance\")\n",
        "plt.ylabel(\"TransactionAmount (INR)\")\n",
        "plt.show()"
      ]
    },
    {
      "attachments": {},
      "cell_type": "markdown",
      "metadata": {},
      "source": [
        "### Task 1.2 - K-Means Clustering con librería"
      ]
    },
    {
      "cell_type": "code",
      "execution_count": null,
      "metadata": {},
      "outputs": [],
      "source": [
        "# Comenzamos importando las librerías importantes para implementar dicho modelo\n",
        "%matplotlib inline\n",
        "from sklearn.cluster import KMeans\n",
        "from sklearn.decomposition import PCA\n",
        "\n",
        "pca = PCA()\n",
        "pca.fit(data)\n",
        "pca.explained_variance_ratio_"
      ]
    },
    {
      "cell_type": "code",
      "execution_count": null,
      "metadata": {},
      "outputs": [],
      "source": [
        "plt.figure(figsize = (10, 8))\n",
        "plt.plot(range(1, 6), pca.explained_variance_ratio_.cumsum(), marker = \"o\", linestyle = \"--\")\n",
        "plt.title(\"Explained variance ratio by Component\")\n",
        "plt.xlabel(\"Number of Components\")\n",
        "plt.ylabel(\"Cumulative Explained Variance Ratio\")\n",
        "plt.show()"
      ]
    },
    {
      "cell_type": "code",
      "execution_count": null,
      "metadata": {},
      "outputs": [],
      "source": [
        "pca = PCA(n_components=2)\n",
        "pca.fit(data)\n",
        "pca_scores = pca.transform(data)\n",
        "\n",
        "pca_scores"
      ]
    },
    {
      "attachments": {},
      "cell_type": "markdown",
      "metadata": {},
      "source": [
        "### Método del codo para determinar el número de clusters"
      ]
    },
    {
      "cell_type": "code",
      "execution_count": null,
      "metadata": {},
      "outputs": [],
      "source": [
        "# fitting multiple k-means algorithms and storing the values in an empty list\n",
        "SSE = []\n",
        "for cluster in range(1,21):\n",
        "    kmeans = KMeans(n_clusters = cluster, init=\"k-means++\", random_state= 42)\n",
        "    kmeans.fit(pca_scores)\n",
        "    SSE.append(kmeans.inertia_)\n",
        "\n",
        "plt.figure(figsize=(12,6))\n",
        "plt.plot(range(1, 21), SSE, marker=\"o\", linestyle=\"--\")\n",
        "plt.xlabel(\"Number of clusters\")\n",
        "plt.ylabel(\"SSE\")\n",
        "plt.title(\"K-Means Elbow method\")\n",
        "plt.show()"
      ]
    },
    {
      "cell_type": "code",
      "execution_count": null,
      "metadata": {},
      "outputs": [],
      "source": [
        "# k means using 5 clusters and k-means++ initialization\n",
        "kmeans = KMeans(n_clusters = 3, init=\"k-means++\", random_state=42)\n",
        "kmeans.fit(data)\n",
        "pred = kmeans.predict(data)\n",
        "\n",
        "np.unique(pred)"
      ]
    },
    {
      "cell_type": "code",
      "execution_count": null,
      "metadata": {},
      "outputs": [],
      "source": [
        "data[\"Segment K-Means\"] = kmeans.labels_\n",
        "data.head()"
      ]
    },
    {
      "cell_type": "code",
      "execution_count": null,
      "metadata": {},
      "outputs": [],
      "source": [
        "data[\"Segment\"] = data[\"Segment K-Means\"].map({0:\"First\", 1:\"Second\", 2:\"Third\"})\n",
        "data.head()"
      ]
    },
    {
      "cell_type": "code",
      "execution_count": null,
      "metadata": {},
      "outputs": [],
      "source": [
        "x_axis = data[\"TransactionAmount (INR)\"]\n",
        "y_axis = data[\"TransactionTime\"]\n",
        "plt.figure(figsize=(12, 8))\n",
        "sns.scatterplot(x=x_axis, y=y_axis, hue=data[\"Segment\"], palette=[\"g\", \"r\", \"b\"])\n",
        "plt.xlabel(\"Transaction Amount (INR)\")\n",
        "plt.ylabel(\"Transaction Time\")\n",
        "plt.title(\"Clusters by K-Means Clustering\")\n",
        "plt.show()"
      ]
    },
    {
      "attachments": {},
      "cell_type": "markdown",
      "metadata": {},
      "source": [
        "### Rendimiento de K-Means Clustering de libreria"
      ]
    },
    {
      "cell_type": "code",
      "execution_count": null,
      "metadata": {},
      "outputs": [],
      "source": [
        "from sklearn.metrics import davies_bouldin_score, calinski_harabasz_score\n",
        "\n",
        "final_data = data.drop([\"Segment\", \"Segment K-Means\"], axis=1)\n",
        "\n",
        "# calculate metrics\n",
        "inertia = kmeans.inertia_\n",
        "db = davies_bouldin_score(final_data, kmeans.labels_)\n",
        "ch = calinski_harabasz_score(final_data, kmeans.labels_)\n",
        "\n",
        "print(f\"Inertia: {inertia}\\nDavies-Bouldin Index: {db}\\nCalinski-Harabasz Index: {ch}\")"
      ]
    }
  ],
  "metadata": {
    "colab": {
      "authorship_tag": "ABX9TyMBfF98eKvH6iMZAQE9Y3ab",
      "include_colab_link": true,
      "provenance": []
    },
    "kernelspec": {
      "display_name": "Python 3",
      "name": "python3"
    },
    "language_info": {
      "codemirror_mode": {
        "name": "ipython",
        "version": 3
      },
      "file_extension": ".py",
      "mimetype": "text/x-python",
      "name": "python",
      "nbconvert_exporter": "python",
      "pygments_lexer": "ipython3",
      "version": "3.10.0"
    }
  },
  "nbformat": 4,
  "nbformat_minor": 0
}
