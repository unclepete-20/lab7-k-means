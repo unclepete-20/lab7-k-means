{
  "cells": [
    {
      "cell_type": "markdown",
      "metadata": {
        "colab_type": "text",
        "id": "view-in-github"
      },
      "source": [
        "<a href=\"https://colab.research.google.com/github/unclepete-20/lab7-k-means/blob/main/K_Means.ipynb\" target=\"_parent\"><img src=\"https://colab.research.google.com/assets/colab-badge.svg\" alt=\"Open In Colab\"/></a>"
      ]
    },
    {
      "cell_type": "markdown",
      "metadata": {
        "id": "U0XJNYmkqUxX"
      },
      "source": [
        "# Laboratorio #7 (K-Means)\n",
        "\n",
        "## Integrantes:\n",
        "\n",
        "\n",
        "*   Pedro Pablo Arriola Jimenez (20188)\n",
        "*   Oscar Fernando Lopez Barrios (20679)\n",
        "*   Santiago Taracena Puga (20017)\n",
        "*   YongBum Park (20117)\n",
        "\n",
        "\n",
        "\n",
        "\n",
        "\n",
        "\n"
      ]
    },
    {
      "cell_type": "markdown",
      "metadata": {
        "id": "4Otg84heq5e-"
      },
      "source": [
        "# Introducción a K-Means Clustering para Análisis de Transacciones Bancarias 💳💰\n",
        "\n",
        "El análisis de transacciones bancarias es una tarea importante para detectar fraudes, comportamientos inusuales y patrones de gasto de los clientes. Una forma de analizar estos datos es mediante el uso de técnicas de agrupamiento, como el algoritmo de K-Means.\n",
        "\n",
        "El algoritmo de K-Means es una técnica de aprendizaje no supervisado que permite agrupar datos en clusters o grupos, basado en su similitud. En el caso del análisis de transacciones bancarias, se pueden agrupar los datos según el comportamiento de los clientes, como sus patrones de gasto, lugares frecuentes de uso de tarjeta, entre otros.\n",
        "\n",
        "La implementación de K-Means en Python es relativamente sencilla gracias a la disponibilidad de diversas librerías como scikit-learn y pandas. A través del uso de esta técnica, se puede obtener una mejor comprensión de los patrones y comportamientos de los clientes, lo que puede ser valioso para la toma de decisiones en el ámbito bancario.\n",
        "\n",
        "En esta investigación, se explorará el uso de K-Means Clustering para el análisis de transacciones bancarias, incluyendo su implementación en Python y la interpretación de los resultados obtenidos.\n"
      ]
    },
    {
      "attachments": {},
      "cell_type": "markdown",
      "metadata": {
        "id": "rx_Ug3BErIrG"
      },
      "source": [
        "## Task 1 - Limpieza de datos y Análisis Exploratorio"
      ]
    },
    {
      "cell_type": "code",
      "execution_count": null,
      "metadata": {
        "colab": {
          "base_uri": "https://localhost:8080/",
          "height": 505
        },
        "id": "OkPFsT3ipcGd",
        "outputId": "7383c3d9-d87e-45eb-a325-b3271860f3b5"
      },
      "outputs": [],
      "source": [
        "# Librerías necesarias para la limpieza de datos y análisis exploratorio.\n",
        "import pandas as pd\n",
        "import numpy as np\n",
        "import matplotlib.pyplot as plt\n",
        "import seaborn as sns"
      ]
    },
    {
      "cell_type": "code",
      "execution_count": null,
      "metadata": {},
      "outputs": [],
      "source": [
        "# Se carga el dataset para comenzar a realizar limpieza y exploración.\n",
        "data = pd.read_csv(\"./data/bank_transactions.csv\")\n",
        "data.head()"
      ]
    },
    {
      "attachments": {},
      "cell_type": "markdown",
      "metadata": {
        "id": "pdmxK1IltmhI"
      },
      "source": [
        "La tabla muestra información sobre transacciones financieras. A continuación se describe el significado de cada columna:\n",
        "\n",
        "- TransactionID: un identificador único para cada transacción\n",
        "- CustomerID: un identificador único para cada cliente\n",
        "- CustomerDOB: la fecha de nacimiento del cliente\n",
        "- CustGender: el género del cliente\n",
        "- CustLocation: la ubicación geográfica del cliente\n",
        "- CustAccountBalance: el saldo de la cuenta del cliente\n",
        "- TransactionDate: la fecha de la transacción\n",
        "- TransactionTime: la hora de la transacción\n",
        "- TransactionAmount (INR): la cantidad de la transacción en rupias indias (INR).\n",
        "\n",
        "Con esta información, se procederá con la limpieza y codificación de los datos."
      ]
    },
    {
      "cell_type": "code",
      "execution_count": null,
      "metadata": {
        "colab": {
          "base_uri": "https://localhost:8080/",
          "height": 424
        },
        "id": "kaMfc2dPt2qK",
        "outputId": "1177b5ca-1613-4bef-ad53-1b7a9d220c95"
      },
      "outputs": [],
      "source": [
        "# Se eliminar estas variables categóricas que no sirven ningún propósito.\n",
        "data = data.drop([\"TransactionID\", \"CustomerID\", \"CustomerDOB\", \"TransactionDate\"], axis=1)\n",
        "data.head()"
      ]
    },
    {
      "cell_type": "code",
      "execution_count": null,
      "metadata": {
        "colab": {
          "base_uri": "https://localhost:8080/",
          "height": 424
        },
        "id": "EBAz4KhAwwRF",
        "outputId": "2b493a2a-7687-4c77-c65f-bb4dcc379d10"
      },
      "outputs": [],
      "source": [
        "# Se hace un mapeo para codificar el genero del cliente\n",
        "\n",
        "gender_map = {\"M\": 1, \"F\": 0}  # Mapeo de género a valores numéricos\n",
        "data[\"CustGender\"] = data[\"CustGender\"].replace(gender_map)\n",
        "# Convertimos la columna a valores numéricos\n",
        "data[\"CustGender\"] = pd.to_numeric(data[\"CustGender\"], errors=\"coerce\")\n",
        "data"
      ]
    },
    {
      "cell_type": "code",
      "execution_count": null,
      "metadata": {
        "colab": {
          "base_uri": "https://localhost:8080/",
          "height": 424
        },
        "id": "-95AFGOGwsSC",
        "outputId": "669c323b-ae62-4413-e12f-89b3f350bbd9"
      },
      "outputs": [],
      "source": [
        "# Se eliminan datos faltantes o nulos\n",
        "data = data.dropna()\n",
        "data"
      ]
    },
    {
      "cell_type": "code",
      "execution_count": null,
      "metadata": {
        "colab": {
          "base_uri": "https://localhost:8080/",
          "height": 551
        },
        "id": "liyhSBq4zjsZ",
        "outputId": "d21c674a-ed0f-411b-ba2b-912c48fd11eb"
      },
      "outputs": [],
      "source": [
        "# Escalamiento de la data\n",
        "\n",
        "from sklearn.preprocessing import StandardScaler\n",
        "\n",
        "scaler = StandardScaler()\n",
        "data[[\"CustAccountBalance\", \"TransactionAmount (INR)\"]] = scaler.fit_transform(data[[\"CustAccountBalance\", \"TransactionAmount (INR)\"]])\n",
        "data"
      ]
    },
    {
      "cell_type": "code",
      "execution_count": null,
      "metadata": {
        "colab": {
          "base_uri": "https://localhost:8080/",
          "height": 551
        },
        "id": "RWXmKwL4z14x",
        "outputId": "9ba104c8-fbb7-445f-cf5a-bf3a3ea5a8b5"
      },
      "outputs": [],
      "source": [
        "median_balance = data[[\"CustAccountBalance\"]].median()\n",
        "fill_median = data[[\"CustAccountBalance\"]].fillna(median_balance)\n",
        "data.loc[:, \"CustAccountBalance\"] = fill_median\n",
        "data"
      ]
    },
    {
      "cell_type": "code",
      "execution_count": null,
      "metadata": {
        "colab": {
          "base_uri": "https://localhost:8080/",
          "height": 551
        },
        "id": "a2nSrmqJ2dgU",
        "outputId": "e16aa8b6-b8e0-4da9-bcf0-32d3604c3fb5"
      },
      "outputs": [],
      "source": [
        "from sklearn.preprocessing import LabelEncoder\n",
        "\n",
        "le = LabelEncoder()\n",
        "data.loc[:, \"CustLocation\"] = le.fit_transform(data[\"CustLocation\"])\n",
        "data\n"
      ]
    },
    {
      "cell_type": "code",
      "execution_count": null,
      "metadata": {},
      "outputs": [],
      "source": [
        "# Ahora se hace una breve descripcion estadistica de los datos\n",
        "data.describe()"
      ]
    },
    {
      "cell_type": "code",
      "execution_count": null,
      "metadata": {},
      "outputs": [],
      "source": [
        "# Tambien se obtiene un poco sobre la informacion de los datos\n",
        "data.info()"
      ]
    },
    {
      "cell_type": "code",
      "execution_count": null,
      "metadata": {},
      "outputs": [],
      "source": [
        "# Se explora la cantida de ubicaciones para tener una nocion sobre la variable\n",
        "data.groupby(\"CustLocation\").size()"
      ]
    },
    {
      "attachments": {},
      "cell_type": "markdown",
      "metadata": {},
      "source": [
        "## Task 1.1 - K-Mean Clustering"
      ]
    },
    {
      "cell_type": "code",
      "execution_count": null,
      "metadata": {},
      "outputs": [],
      "source": [
        "# Comenzamos seleccionando las variables que nos interesan.\n",
        "X = data[[\"CustAccountBalance\", \"TransactionAmount (INR)\"]]\n",
        "\n",
        "# Se grafican los puntos\n",
        "plt.scatter(X[\"CustAccountBalance\"], X[\"TransactionAmount (INR)\"], c=\"red\")\n",
        "plt.xlabel(\"CustAccountBalance\")\n",
        "plt.ylabel(\"TransactionAmount (INR)\")\n",
        "plt.show()"
      ]
    },
    {
      "cell_type": "code",
      "execution_count": null,
      "metadata": {},
      "outputs": [],
      "source": [
        "# Definir la función de distancia euclidiana\n",
        "def euclidean_distance(x1, x2):\n",
        "    return np.sqrt(np.sum((x1 - x2) ** 2))\n",
        "\n",
        "# Implementar el método del codo para K-Means Clustering\n",
        "def kmeans_elbow_method(X, k):\n",
        "    # Inicializar los centroides de manera aleatoria\n",
        "    centroids = X.iloc[np.random.choice(X.shape[0], size=k, replace=False), :]\n",
        "    \n",
        "    # Iterar sobre diferentes valores de k y calcular SSE\n",
        "    sse = []\n",
        "    for i in range(1, k+1):\n",
        "        clusters = [[] for _ in range(i)]\n",
        "        for x in X:\n",
        "            distances = [euclidean_distance(x, c) for c in centroids]\n",
        "            cluster_idx = np.argmin(distances)\n",
        "            clusters[cluster_idx].append(x)\n",
        "        curr_sse = 0\n",
        "        for j in range(i):\n",
        "            cluster = np.array(clusters[j])\n",
        "            centroid = np.mean(cluster, axis=0)\n",
        "            curr_sse += np.sum((cluster - centroid) ** 2)\n",
        "        sse.append(curr_sse)\n",
        "    \n",
        "    # Graficar SSE vs k y encontrar el codo\n",
        "    import matplotlib.pyplot as plt\n",
        "    plt.plot(range(1, k+1), sse, \"bx-\")\n",
        "    plt.xlabel(\"k\")\n",
        "    plt.ylabel(\"SSE\")\n",
        "    plt.title(\"Método del codo para K-Means Clustering\")\n",
        "    plt.show()"
      ]
    },
    {
      "cell_type": "code",
      "execution_count": null,
      "metadata": {},
      "outputs": [],
      "source": [
        "# Step 1 and 2 - Choose the number of clusters (k) and select random centroid for each cluster\n",
        "\n",
        "#number of clusters\n",
        "K=3\n",
        "\n",
        "# Select random observation as centroids\n",
        "Centroids = (X.sample(n=K))\n",
        "plt.scatter(X[\"CustAccountBalance\"], X[\"TransactionAmount (INR)\"], c=\"red\")\n",
        "plt.scatter(Centroids[\"CustAccountBalance\"], Centroids[\"TransactionAmount (INR)\"], c=\"black\")\n",
        "plt.xlabel(\"CustAccountBalance\")\n",
        "plt.ylabel(\"TransactionAmount (INR)\")\n",
        "plt.show()"
      ]
    },
    {
      "cell_type": "code",
      "execution_count": null,
      "metadata": {},
      "outputs": [],
      "source": [
        "# Step 3 - Assign all the points to the closest cluster centroid\n",
        "# Step 4 - Recompute centroids of newly formed clusters\n",
        "# Step 5 - Repeat step 3 and 4\n",
        "\n",
        "diff = 1\n",
        "j=0\n",
        "\n",
        "while(diff!=0):\n",
        "    XD=X\n",
        "    i=1\n",
        "    for index1,row_c in Centroids.iterrows():\n",
        "        ED=[]\n",
        "        for index2,row_d in XD.iterrows():\n",
        "            d1=(row_c[\"CustAccountBalance\"]-row_d[\"CustAccountBalance\"])**2\n",
        "            d2=(row_c[\"TransactionAmount (INR)\"]-row_d[\"TransactionAmount (INR)\"])**2\n",
        "            d=np.sqrt(d1+d2)\n",
        "            ED.append(d)\n",
        "        X[i]=ED\n",
        "        i=i+1\n",
        "\n",
        "    C=[]\n",
        "    for index,row in X.iterrows():\n",
        "        min_dist=row[1]\n",
        "        pos=1\n",
        "        for i in range(K):\n",
        "            if row[i+1] < min_dist:\n",
        "                min_dist = row[i+1]\n",
        "                pos=i+1\n",
        "        C.append(pos)\n",
        "    X[\"Cluster\"]=C\n",
        "    Centroids_new = X.groupby([\"Cluster\"]).mean()[[\"TransactionAmount (INR)\",\"CustAccountBalance\"]]\n",
        "    if j == 0:\n",
        "        diff=1\n",
        "        j=j+1\n",
        "    else:\n",
        "        diff = (Centroids_new[\"TransactionAmount (INR)\"] - Centroids[\"TransactionAmount (INR)\"]).sum() + (Centroids_new[\"CustAccountBalance\"] - Centroids[\"CustAccountBalance\"]).sum()\n",
        "        print(diff.sum())\n",
        "    Centroids = X.groupby([\"Cluster\"]).mean()[[\"TransactionAmount (INR)\",\"CustAccountBalance\"]]"
      ]
    },
    {
      "cell_type": "code",
      "execution_count": null,
      "metadata": {},
      "outputs": [],
      "source": [
        "color=[\"yellow\",\"green\",\"blue\"]\n",
        "for k in range(K):\n",
        "    data=X[X[\"Cluster\"] == k + 1]\n",
        "    plt.scatter(data[\"CustAccountBalance\"],data[\"TransactionAmount (INR)\"], c=color[k])\n",
        "plt.scatter(Centroids[\"CustAccountBalance\"],Centroids[\"TransactionAmount (INR)\"], c=\"black\")\n",
        "plt.xlabel(\"Account Balance\")\n",
        "plt.ylabel(\"TransactionAmount (INR)\")\n",
        "plt.show()"
      ]
    },
    {
      "attachments": {},
      "cell_type": "markdown",
      "metadata": {},
      "source": [
        "### Task 1.2 - K-Means Clustering con librería"
      ]
    },
    {
      "cell_type": "code",
      "execution_count": null,
      "metadata": {},
      "outputs": [],
      "source": [
        "# Comenzamos importando las librerías importantes para implementar dicho modelo\n",
        "%matplotlib inline\n",
        "from sklearn.cluster import KMeans\n",
        "from sklearn.decomposition import PCA\n",
        "\n",
        "pca = PCA()\n",
        "pca.fit(data)\n",
        "pca.explained_variance_ratio_"
      ]
    },
    {
      "cell_type": "code",
      "execution_count": null,
      "metadata": {},
      "outputs": [],
      "source": [
        "plt.figure(figsize = (10, 8))\n",
        "plt.plot(range(1, 6), pca.explained_variance_ratio_.cumsum(), marker = \"o\", linestyle = \"--\")\n",
        "plt.title(\"Explained variance ratio by Component\")\n",
        "plt.xlabel(\"Number of Components\")\n",
        "plt.ylabel(\"Cumulative Explained Variance Ratio\")\n",
        "plt.show()"
      ]
    },
    {
      "cell_type": "code",
      "execution_count": null,
      "metadata": {},
      "outputs": [],
      "source": [
        "pca = PCA(n_components=2)\n",
        "pca.fit(data)\n",
        "pca_scores = pca.transform(data)\n",
        "\n",
        "pca_scores"
      ]
    },
    {
      "attachments": {},
      "cell_type": "markdown",
      "metadata": {},
      "source": [
        "### Método del codo para determinar el número de clusters"
      ]
    },
    {
      "cell_type": "code",
      "execution_count": null,
      "metadata": {},
      "outputs": [],
      "source": [
        "# fitting multiple k-means algorithms and storing the values in an empty list\n",
        "SSE = []\n",
        "for cluster in range(1,21):\n",
        "    kmeans = KMeans(n_clusters = cluster, init=\"k-means++\", random_state= 42)\n",
        "    kmeans.fit(pca_scores)\n",
        "    SSE.append(kmeans.inertia_)\n",
        "\n",
        "plt.figure(figsize=(12,6))\n",
        "plt.plot(range(1, 21), SSE, marker=\"o\", linestyle=\"--\")\n",
        "plt.xlabel(\"Number of clusters\")\n",
        "plt.ylabel(\"SSE\")\n",
        "plt.title(\"K-Means Elbow method\")\n",
        "plt.show()"
      ]
    },
    {
      "cell_type": "code",
      "execution_count": null,
      "metadata": {},
      "outputs": [],
      "source": [
        "# k means using 5 clusters and k-means++ initialization\n",
        "kmeans = KMeans(n_clusters = 3, init=\"k-means++\", random_state=42)\n",
        "kmeans.fit(data)\n",
        "pred = kmeans.predict(data)\n",
        "\n",
        "np.unique(pred)"
      ]
    },
    {
      "cell_type": "code",
      "execution_count": null,
      "metadata": {},
      "outputs": [],
      "source": [
        "data[\"Segment K-Means\"] = kmeans.labels_\n",
        "data.head()"
      ]
    },
    {
      "cell_type": "code",
      "execution_count": null,
      "metadata": {},
      "outputs": [],
      "source": [
        "data[\"Segment\"] = data[\"Segment K-Means\"].map({0:\"First\", 1:\"Second\", 2:\"Third\"})\n",
        "data.head()"
      ]
    },
    {
      "cell_type": "code",
      "execution_count": null,
      "metadata": {},
      "outputs": [],
      "source": [
        "x_axis = data[\"TransactionAmount (INR)\"]\n",
        "y_axis = data[\"TransactionTime\"]\n",
        "plt.figure(figsize=(12, 8))\n",
        "sns.scatterplot(x=x_axis, y=y_axis, hue=data[\"Segment\"], palette=[\"g\", \"r\", \"b\"])\n",
        "plt.xlabel(\"Transaction Amount (INR)\")\n",
        "plt.ylabel(\"Transaction Time\")\n",
        "plt.title(\"Clusters by K-Means Clustering\")\n",
        "plt.show()"
      ]
    },
    {
      "attachments": {},
      "cell_type": "markdown",
      "metadata": {},
      "source": [
        "### Rendimiento de K-Means Clustering de libreria"
      ]
    },
    {
      "cell_type": "code",
      "execution_count": null,
      "metadata": {},
      "outputs": [],
      "source": [
        "from sklearn.metrics import davies_bouldin_score, calinski_harabasz_score\n",
        "\n",
        "final_data = data.drop([\"Segment\", \"Segment K-Means\"], axis=1)\n",
        "\n",
        "# calculate metrics\n",
        "inertia = kmeans.inertia_\n",
        "db = davies_bouldin_score(final_data, kmeans.labels_)\n",
        "ch = calinski_harabasz_score(final_data, kmeans.labels_)\n",
        "\n",
        "print(f\"Inertia: {inertia}\\nDavies-Bouldin Index: {db}\\nCalinski-Harabasz Index: {ch}\")"
      ]
    }
  ],
  "metadata": {
    "colab": {
      "authorship_tag": "ABX9TyMBfF98eKvH6iMZAQE9Y3ab",
      "include_colab_link": true,
      "provenance": []
    },
    "kernelspec": {
      "display_name": "Python 3",
      "name": "python3"
    },
    "language_info": {
      "codemirror_mode": {
        "name": "ipython",
        "version": 3
      },
      "file_extension": ".py",
      "mimetype": "text/x-python",
      "name": "python",
      "nbconvert_exporter": "python",
      "pygments_lexer": "ipython3",
      "version": "3.11.1"
    }
  },
  "nbformat": 4,
  "nbformat_minor": 0
}
